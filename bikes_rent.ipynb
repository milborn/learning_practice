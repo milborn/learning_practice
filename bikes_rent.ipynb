{
 "cells": [
  {
   "cell_type": "code",
   "execution_count": 1,
   "metadata": {},
   "outputs": [],
   "source": [
    "import pandas as pd\n",
    "import numpy as np"
   ]
  },
  {
   "cell_type": "code",
   "execution_count": 2,
   "metadata": {},
   "outputs": [],
   "source": [
    "data = pd.read_csv('bikes_rent.csv')"
   ]
  },
  {
   "cell_type": "code",
   "execution_count": 3,
   "metadata": {
    "scrolled": true
   },
   "outputs": [
    {
     "data": {
      "text/plain": [
       "(731, 13)"
      ]
     },
     "execution_count": 3,
     "metadata": {},
     "output_type": "execute_result"
    }
   ],
   "source": [
    "data.shape"
   ]
  },
  {
   "cell_type": "code",
   "execution_count": 4,
   "metadata": {},
   "outputs": [
    {
     "name": "stdout",
     "output_type": "stream",
     "text": [
      "<class 'pandas.core.frame.DataFrame'>\n",
      "RangeIndex: 731 entries, 0 to 730\n",
      "Data columns (total 13 columns):\n",
      "season            731 non-null int64\n",
      "yr                731 non-null int64\n",
      "mnth              731 non-null int64\n",
      "holiday           731 non-null int64\n",
      "weekday           731 non-null int64\n",
      "workingday        731 non-null int64\n",
      "weathersit        731 non-null int64\n",
      "temp              731 non-null float64\n",
      "atemp             731 non-null float64\n",
      "hum               731 non-null float64\n",
      "windspeed(mph)    731 non-null float64\n",
      "windspeed(ms)     731 non-null float64\n",
      "cnt               731 non-null int64\n",
      "dtypes: float64(5), int64(8)\n",
      "memory usage: 74.4 KB\n"
     ]
    }
   ],
   "source": [
    "data.info()"
   ]
  },
  {
   "cell_type": "code",
   "execution_count": 5,
   "metadata": {},
   "outputs": [
    {
     "data": {
      "text/html": [
       "<div>\n",
       "<style scoped>\n",
       "    .dataframe tbody tr th:only-of-type {\n",
       "        vertical-align: middle;\n",
       "    }\n",
       "\n",
       "    .dataframe tbody tr th {\n",
       "        vertical-align: top;\n",
       "    }\n",
       "\n",
       "    .dataframe thead th {\n",
       "        text-align: right;\n",
       "    }\n",
       "</style>\n",
       "<table border=\"1\" class=\"dataframe\">\n",
       "  <thead>\n",
       "    <tr style=\"text-align: right;\">\n",
       "      <th></th>\n",
       "      <th>season</th>\n",
       "      <th>yr</th>\n",
       "      <th>mnth</th>\n",
       "      <th>holiday</th>\n",
       "      <th>weekday</th>\n",
       "      <th>workingday</th>\n",
       "      <th>weathersit</th>\n",
       "      <th>temp</th>\n",
       "      <th>atemp</th>\n",
       "      <th>hum</th>\n",
       "      <th>windspeed(mph)</th>\n",
       "      <th>windspeed(ms)</th>\n",
       "      <th>cnt</th>\n",
       "    </tr>\n",
       "  </thead>\n",
       "  <tbody>\n",
       "    <tr>\n",
       "      <td>0</td>\n",
       "      <td>1</td>\n",
       "      <td>0</td>\n",
       "      <td>1</td>\n",
       "      <td>0</td>\n",
       "      <td>6</td>\n",
       "      <td>0</td>\n",
       "      <td>2</td>\n",
       "      <td>14.110847</td>\n",
       "      <td>18.18125</td>\n",
       "      <td>80.5833</td>\n",
       "      <td>10.749882</td>\n",
       "      <td>4.805490</td>\n",
       "      <td>985</td>\n",
       "    </tr>\n",
       "    <tr>\n",
       "      <td>1</td>\n",
       "      <td>1</td>\n",
       "      <td>0</td>\n",
       "      <td>1</td>\n",
       "      <td>0</td>\n",
       "      <td>0</td>\n",
       "      <td>0</td>\n",
       "      <td>2</td>\n",
       "      <td>14.902598</td>\n",
       "      <td>17.68695</td>\n",
       "      <td>69.6087</td>\n",
       "      <td>16.652113</td>\n",
       "      <td>7.443949</td>\n",
       "      <td>801</td>\n",
       "    </tr>\n",
       "    <tr>\n",
       "      <td>2</td>\n",
       "      <td>1</td>\n",
       "      <td>0</td>\n",
       "      <td>1</td>\n",
       "      <td>0</td>\n",
       "      <td>1</td>\n",
       "      <td>1</td>\n",
       "      <td>1</td>\n",
       "      <td>8.050924</td>\n",
       "      <td>9.47025</td>\n",
       "      <td>43.7273</td>\n",
       "      <td>16.636703</td>\n",
       "      <td>7.437060</td>\n",
       "      <td>1349</td>\n",
       "    </tr>\n",
       "    <tr>\n",
       "      <td>3</td>\n",
       "      <td>1</td>\n",
       "      <td>0</td>\n",
       "      <td>1</td>\n",
       "      <td>0</td>\n",
       "      <td>2</td>\n",
       "      <td>1</td>\n",
       "      <td>1</td>\n",
       "      <td>8.200000</td>\n",
       "      <td>10.60610</td>\n",
       "      <td>59.0435</td>\n",
       "      <td>10.739832</td>\n",
       "      <td>4.800998</td>\n",
       "      <td>1562</td>\n",
       "    </tr>\n",
       "    <tr>\n",
       "      <td>4</td>\n",
       "      <td>1</td>\n",
       "      <td>0</td>\n",
       "      <td>1</td>\n",
       "      <td>0</td>\n",
       "      <td>3</td>\n",
       "      <td>1</td>\n",
       "      <td>1</td>\n",
       "      <td>9.305237</td>\n",
       "      <td>11.46350</td>\n",
       "      <td>43.6957</td>\n",
       "      <td>12.522300</td>\n",
       "      <td>5.597810</td>\n",
       "      <td>1600</td>\n",
       "    </tr>\n",
       "  </tbody>\n",
       "</table>\n",
       "</div>"
      ],
      "text/plain": [
       "   season  yr  mnth  holiday  weekday  workingday  weathersit       temp  \\\n",
       "0       1   0     1        0        6           0           2  14.110847   \n",
       "1       1   0     1        0        0           0           2  14.902598   \n",
       "2       1   0     1        0        1           1           1   8.050924   \n",
       "3       1   0     1        0        2           1           1   8.200000   \n",
       "4       1   0     1        0        3           1           1   9.305237   \n",
       "\n",
       "      atemp      hum  windspeed(mph)  windspeed(ms)   cnt  \n",
       "0  18.18125  80.5833       10.749882       4.805490   985  \n",
       "1  17.68695  69.6087       16.652113       7.443949   801  \n",
       "2   9.47025  43.7273       16.636703       7.437060  1349  \n",
       "3  10.60610  59.0435       10.739832       4.800998  1562  \n",
       "4  11.46350  43.6957       12.522300       5.597810  1600  "
      ]
     },
     "execution_count": 5,
     "metadata": {},
     "output_type": "execute_result"
    }
   ],
   "source": [
    "data.head()"
   ]
  },
  {
   "cell_type": "markdown",
   "metadata": {},
   "source": [
    "# прогноз на cnt - count (кол-во арендованых велосипедов за день)\n",
    "# 4 сезона, yr- бинарный (у нас всего два года), mnth - [1:12], holiday - 1\\0, weekday [0;6], workingday - 1\\0, weathersit - описывает разные погодные условия (облачность, туман, снег, дождь), temp - температура факт, atemp- температура как чувствуется, hum- влажность, windspeed- скорость воздуха (внесена мультиколлинеарность (замеряна в mph и в ms) от одого нужно избавляться)"
   ]
  },
  {
   "cell_type": "code",
   "execution_count": 6,
   "metadata": {},
   "outputs": [
    {
     "data": {
      "text/html": [
       "<div>\n",
       "<style scoped>\n",
       "    .dataframe tbody tr th:only-of-type {\n",
       "        vertical-align: middle;\n",
       "    }\n",
       "\n",
       "    .dataframe tbody tr th {\n",
       "        vertical-align: top;\n",
       "    }\n",
       "\n",
       "    .dataframe thead th {\n",
       "        text-align: right;\n",
       "    }\n",
       "</style>\n",
       "<table border=\"1\" class=\"dataframe\">\n",
       "  <thead>\n",
       "    <tr style=\"text-align: right;\">\n",
       "      <th></th>\n",
       "      <th>season</th>\n",
       "      <th>yr</th>\n",
       "      <th>mnth</th>\n",
       "      <th>holiday</th>\n",
       "      <th>weekday</th>\n",
       "      <th>workingday</th>\n",
       "      <th>weathersit</th>\n",
       "      <th>temp</th>\n",
       "      <th>atemp</th>\n",
       "      <th>hum</th>\n",
       "      <th>windspeed(mph)</th>\n",
       "      <th>windspeed(ms)</th>\n",
       "      <th>cnt</th>\n",
       "    </tr>\n",
       "  </thead>\n",
       "  <tbody>\n",
       "    <tr>\n",
       "      <td>count</td>\n",
       "      <td>731.000000</td>\n",
       "      <td>731.000000</td>\n",
       "      <td>731.000000</td>\n",
       "      <td>731.000000</td>\n",
       "      <td>731.000000</td>\n",
       "      <td>731.000000</td>\n",
       "      <td>731.000000</td>\n",
       "      <td>731.000000</td>\n",
       "      <td>731.000000</td>\n",
       "      <td>731.000000</td>\n",
       "      <td>731.000000</td>\n",
       "      <td>731.000000</td>\n",
       "      <td>731.000000</td>\n",
       "    </tr>\n",
       "    <tr>\n",
       "      <td>mean</td>\n",
       "      <td>2.496580</td>\n",
       "      <td>0.500684</td>\n",
       "      <td>6.519836</td>\n",
       "      <td>0.028728</td>\n",
       "      <td>2.997264</td>\n",
       "      <td>0.683995</td>\n",
       "      <td>1.395349</td>\n",
       "      <td>20.310776</td>\n",
       "      <td>23.717699</td>\n",
       "      <td>62.789406</td>\n",
       "      <td>12.762576</td>\n",
       "      <td>5.705220</td>\n",
       "      <td>4504.348837</td>\n",
       "    </tr>\n",
       "    <tr>\n",
       "      <td>std</td>\n",
       "      <td>1.110807</td>\n",
       "      <td>0.500342</td>\n",
       "      <td>3.451913</td>\n",
       "      <td>0.167155</td>\n",
       "      <td>2.004787</td>\n",
       "      <td>0.465233</td>\n",
       "      <td>0.544894</td>\n",
       "      <td>7.505091</td>\n",
       "      <td>8.148059</td>\n",
       "      <td>14.242910</td>\n",
       "      <td>5.192357</td>\n",
       "      <td>2.321125</td>\n",
       "      <td>1937.211452</td>\n",
       "    </tr>\n",
       "    <tr>\n",
       "      <td>min</td>\n",
       "      <td>1.000000</td>\n",
       "      <td>0.000000</td>\n",
       "      <td>1.000000</td>\n",
       "      <td>0.000000</td>\n",
       "      <td>0.000000</td>\n",
       "      <td>0.000000</td>\n",
       "      <td>1.000000</td>\n",
       "      <td>2.424346</td>\n",
       "      <td>3.953480</td>\n",
       "      <td>0.000000</td>\n",
       "      <td>1.500244</td>\n",
       "      <td>0.670650</td>\n",
       "      <td>22.000000</td>\n",
       "    </tr>\n",
       "    <tr>\n",
       "      <td>25%</td>\n",
       "      <td>2.000000</td>\n",
       "      <td>0.000000</td>\n",
       "      <td>4.000000</td>\n",
       "      <td>0.000000</td>\n",
       "      <td>1.000000</td>\n",
       "      <td>0.000000</td>\n",
       "      <td>1.000000</td>\n",
       "      <td>13.820424</td>\n",
       "      <td>16.892125</td>\n",
       "      <td>52.000000</td>\n",
       "      <td>9.041650</td>\n",
       "      <td>4.041864</td>\n",
       "      <td>3152.000000</td>\n",
       "    </tr>\n",
       "    <tr>\n",
       "      <td>50%</td>\n",
       "      <td>3.000000</td>\n",
       "      <td>1.000000</td>\n",
       "      <td>7.000000</td>\n",
       "      <td>0.000000</td>\n",
       "      <td>3.000000</td>\n",
       "      <td>1.000000</td>\n",
       "      <td>1.000000</td>\n",
       "      <td>20.431653</td>\n",
       "      <td>24.336650</td>\n",
       "      <td>62.666700</td>\n",
       "      <td>12.125325</td>\n",
       "      <td>5.420351</td>\n",
       "      <td>4548.000000</td>\n",
       "    </tr>\n",
       "    <tr>\n",
       "      <td>75%</td>\n",
       "      <td>3.000000</td>\n",
       "      <td>1.000000</td>\n",
       "      <td>10.000000</td>\n",
       "      <td>0.000000</td>\n",
       "      <td>5.000000</td>\n",
       "      <td>1.000000</td>\n",
       "      <td>2.000000</td>\n",
       "      <td>26.872077</td>\n",
       "      <td>30.430100</td>\n",
       "      <td>73.020850</td>\n",
       "      <td>15.625371</td>\n",
       "      <td>6.984967</td>\n",
       "      <td>5956.000000</td>\n",
       "    </tr>\n",
       "    <tr>\n",
       "      <td>max</td>\n",
       "      <td>4.000000</td>\n",
       "      <td>1.000000</td>\n",
       "      <td>12.000000</td>\n",
       "      <td>1.000000</td>\n",
       "      <td>6.000000</td>\n",
       "      <td>1.000000</td>\n",
       "      <td>3.000000</td>\n",
       "      <td>35.328347</td>\n",
       "      <td>42.044800</td>\n",
       "      <td>97.250000</td>\n",
       "      <td>34.000021</td>\n",
       "      <td>15.198937</td>\n",
       "      <td>8714.000000</td>\n",
       "    </tr>\n",
       "  </tbody>\n",
       "</table>\n",
       "</div>"
      ],
      "text/plain": [
       "           season          yr        mnth     holiday     weekday  workingday  \\\n",
       "count  731.000000  731.000000  731.000000  731.000000  731.000000  731.000000   \n",
       "mean     2.496580    0.500684    6.519836    0.028728    2.997264    0.683995   \n",
       "std      1.110807    0.500342    3.451913    0.167155    2.004787    0.465233   \n",
       "min      1.000000    0.000000    1.000000    0.000000    0.000000    0.000000   \n",
       "25%      2.000000    0.000000    4.000000    0.000000    1.000000    0.000000   \n",
       "50%      3.000000    1.000000    7.000000    0.000000    3.000000    1.000000   \n",
       "75%      3.000000    1.000000   10.000000    0.000000    5.000000    1.000000   \n",
       "max      4.000000    1.000000   12.000000    1.000000    6.000000    1.000000   \n",
       "\n",
       "       weathersit        temp       atemp         hum  windspeed(mph)  \\\n",
       "count  731.000000  731.000000  731.000000  731.000000      731.000000   \n",
       "mean     1.395349   20.310776   23.717699   62.789406       12.762576   \n",
       "std      0.544894    7.505091    8.148059   14.242910        5.192357   \n",
       "min      1.000000    2.424346    3.953480    0.000000        1.500244   \n",
       "25%      1.000000   13.820424   16.892125   52.000000        9.041650   \n",
       "50%      1.000000   20.431653   24.336650   62.666700       12.125325   \n",
       "75%      2.000000   26.872077   30.430100   73.020850       15.625371   \n",
       "max      3.000000   35.328347   42.044800   97.250000       34.000021   \n",
       "\n",
       "       windspeed(ms)          cnt  \n",
       "count     731.000000   731.000000  \n",
       "mean        5.705220  4504.348837  \n",
       "std         2.321125  1937.211452  \n",
       "min         0.670650    22.000000  \n",
       "25%         4.041864  3152.000000  \n",
       "50%         5.420351  4548.000000  \n",
       "75%         6.984967  5956.000000  \n",
       "max        15.198937  8714.000000  "
      ]
     },
     "execution_count": 6,
     "metadata": {},
     "output_type": "execute_result"
    }
   ],
   "source": [
    "data.describe()"
   ]
  },
  {
   "cell_type": "markdown",
   "metadata": {},
   "source": [
    "# можно порисовать картинки, но лучше нарисовать графики"
   ]
  },
  {
   "cell_type": "code",
   "execution_count": 7,
   "metadata": {},
   "outputs": [],
   "source": [
    "%matplotlib inline\n",
    "from matplotlib import pyplot as plt\n",
    "import seaborn as sns \n",
    "plt.rcParams['figure.figsize'] = (12, 8)\n"
   ]
  },
  {
   "cell_type": "code",
   "execution_count": 8,
   "metadata": {
    "scrolled": true
   },
   "outputs": [
    {
     "data": {
      "text/plain": [
       "<matplotlib.axes._subplots.AxesSubplot at 0x271aa2b2cf8>"
      ]
     },
     "execution_count": 8,
     "metadata": {},
     "output_type": "execute_result"
    },
    {
     "data": {
      "image/png": "[encoded data removed]",
      "text/plain": [
       "<Figure size 432x288 with 1 Axes>"
      ]
     },
     "metadata": {
      "needs_background": "light"
     },
     "output_type": "display_data"
    }
   ],
   "source": [
    "# зависимость к-ва арендованых от сезона (1- зима)\n",
    "sns.violinplot(data['season'], data['cnt'])"
   ]
  },
  {
   "cell_type": "code",
   "execution_count": 9,
   "metadata": {
    "scrolled": false
   },
   "outputs": [
    {
     "data": {
      "text/plain": [
       "<matplotlib.axes._subplots.AxesSubplot at 0x271ab51e4e0>"
      ]
     },
     "execution_count": 9,
     "metadata": {},
     "output_type": "execute_result"
    },
    {
     "data": {
      "image/png": "[encoded data removed]",
      "text/plain": [
       "<Figure size 432x288 with 2 Axes>"
      ]
     },
     "metadata": {
      "needs_background": "light"
     },
     "output_type": "display_data"
    }
   ],
   "source": [
    "sns.heatmap(data.corr())"
   ]
  },
  {
   "cell_type": "code",
   "execution_count": 10,
   "metadata": {},
   "outputs": [
    {
     "data": {
      "text/plain": [
       "(731, 13)"
      ]
     },
     "execution_count": 10,
     "metadata": {},
     "output_type": "execute_result"
    }
   ],
   "source": [
    "data.shape"
   ]
  },
  {
   "cell_type": "markdown",
   "metadata": {},
   "source": [
    "# у нас 12 признаков и 1 целевой. чтобы построить сразу много графиков (размер позволяет разбить их 4*3) используем plt.subplot()\n",
    "\n",
    "# помимо размера нужен третий параметр, который укажет где строить.\n",
    "\n",
    "# enumerate - номер итерации. должен быть > 1. его и передаём как 3 параметр\n",
    "\n",
    "# подпишем каждый график согласо его признаку"
   ]
  },
  {
   "cell_type": "code",
   "execution_count": 11,
   "metadata": {},
   "outputs": [
    {
     "data": {
      "image/png": "[encoded data removed]",
      "text/plain": [
       "<Figure size 432x288 with 12 Axes>"
      ]
     },
     "metadata": {
      "needs_background": "light"
     },
     "output_type": "display_data"
    }
   ],
   "source": [
    "for i, col in enumerate(data.columns[:-1]):\n",
    "    plt.subplot(4, 3, i + 1)\n",
    "    plt.scatter(data[col], data['cnt'])\n",
    "    plt.title(col)"
   ]
  },
  {
   "cell_type": "markdown",
   "metadata": {},
   "source": [
    "# посмотрим ближе на график по месяцам"
   ]
  },
  {
   "cell_type": "code",
   "execution_count": 12,
   "metadata": {},
   "outputs": [
    {
     "data": {
      "text/plain": [
       "<matplotlib.collections.PathCollection at 0x271aeaa2710>"
      ]
     },
     "execution_count": 12,
     "metadata": {},
     "output_type": "execute_result"
    },
    {
     "data": {
      "image/png": "[encoded data removed]",
      "text/plain": [
       "<Figure size 432x288 with 1 Axes>"
      ]
     },
     "metadata": {
      "needs_background": "light"
     },
     "output_type": "display_data"
    }
   ],
   "source": [
    "plt.scatter(data.mnth, data.cnt)"
   ]
  },
  {
   "cell_type": "code",
   "execution_count": 13,
   "metadata": {},
   "outputs": [
    {
     "data": {
      "text/plain": [
       "<matplotlib.collections.PathCollection at 0x271ae9a75f8>"
      ]
     },
     "execution_count": 13,
     "metadata": {},
     "output_type": "execute_result"
    },
    {
     "data": {
      "image/png": "[encoded data removed]",
      "text/plain": [
       "<Figure size 432x288 with 1 Axes>"
      ]
     },
     "metadata": {
      "needs_background": "light"
     },
     "output_type": "display_data"
    }
   ],
   "source": [
    "plt.scatter(data.temp, data.cnt)"
   ]
  },
  {
   "cell_type": "markdown",
   "metadata": {},
   "source": [
    "# видно, что зависимость нелинейна, скорее параболическая, может помочь добавление квадрата признака месяца. При высокой температуре аренда тоже падает"
   ]
  },
  {
   "cell_type": "code",
   "execution_count": 14,
   "metadata": {},
   "outputs": [],
   "source": [
    "# LassoCV, RidgeCV - методы, заточенные под кросс-валидацию. Можно быстрее подбирать гиппер-параметр\n",
    "# StandardScaler для масштабирования\n",
    "\n",
    "from sklearn.linear_model import LinearRegression, Lasso, Ridge\n",
    "from sklearn.linear_model import LassoCV, RidgeCV\n",
    "from sklearn.ensemble import RandomForestRegressor # сравним со случайным лесом\n",
    "from sklearn.preprocessing import StandardScaler\n",
    "from sklearn.metrics import mean_squared_error"
   ]
  },
  {
   "cell_type": "code",
   "execution_count": 15,
   "metadata": {},
   "outputs": [],
   "source": [
    "linreg = LinearRegression()\n",
    "lasso = Lasso(random_state=17)\n",
    "ridge = Ridge(random_state=17)\n",
    "lasso_cv = LassoCV(random_state=17)\n",
    "ridge_cv = RidgeCV()"
   ]
  },
  {
   "cell_type": "markdown",
   "metadata": {},
   "source": [
    "# подготовим данные"
   ]
  },
  {
   "cell_type": "code",
   "execution_count": 16,
   "metadata": {},
   "outputs": [],
   "source": [
    "# МОДЕЛИ БУДЕМ ОБУЧАТЬ ТОЛЬКО НА NUMPY обьектах, чтобы не путаться с .loc & .iloc\n",
    "X, y = data.drop('cnt', axis=1).values, data['cnt'].values"
   ]
  },
  {
   "cell_type": "markdown",
   "metadata": {},
   "source": [
    "# нарежем данные. у нас данные упорядочены по времени, поэтому кросс-валидацию лучше не проводить. не стоит по будущему прогнозировать прошлое(можно получить слишком оптимистичную ошибку), поэтому для валидации(для оценки моделей) разобьем на две чати, оставим только отложенную выборку. Пусть это будет 70% от длины исходной выборки "
   ]
  },
  {
   "cell_type": "code",
   "execution_count": 17,
   "metadata": {},
   "outputs": [],
   "source": [
    "train_part_size = int(.7 * X.shape[0])\n",
    "\n",
    "X_train, X_valid = X[:train_part_size, :], X[train_part_size:, :]\n",
    "y_train, y_valid = y[:train_part_size], y[train_part_size:]"
   ]
  },
  {
   "cell_type": "markdown",
   "metadata": {},
   "source": [
    "# есть обучающая выборка, есть отложенная под валидацию. Масштабируем данные"
   ]
  },
  {
   "cell_type": "code",
   "execution_count": 18,
   "metadata": {},
   "outputs": [],
   "source": [
    "# fit_transform() - обучим и заодно выведем отмасштабированную выборку\n",
    "scaler = StandardScaler()\n",
    "X_train_scaled = scaler.fit_transform(X_train)\n",
    "\n",
    "# с помощью отмасштабированных средних и стандартных отклонений масштабируем отложенную выборку\n",
    "X_valid_scaled = scaler.transform(X_valid)"
   ]
  },
  {
   "cell_type": "markdown",
   "metadata": {},
   "source": [
    "# обучим первую модель на масштабированных данных"
   ]
  },
  {
   "cell_type": "code",
   "execution_count": 19,
   "metadata": {},
   "outputs": [
    {
     "data": {
      "text/plain": [
       "LinearRegression(copy_X=True, fit_intercept=True, n_jobs=None, normalize=False)"
      ]
     },
     "execution_count": 19,
     "metadata": {},
     "output_type": "execute_result"
    }
   ],
   "source": [
    "linreg.fit(X_train_scaled, y_train)"
   ]
  },
  {
   "cell_type": "markdown",
   "metadata": {},
   "source": [
    "# теперь интересно качество на отложенной выборке и заодно посмотреть на коэффициенты. Они должны неплохо интерпретироваться"
   ]
  },
  {
   "cell_type": "code",
   "execution_count": 20,
   "metadata": {},
   "outputs": [
    {
     "data": {
      "text/plain": [
       "1258424.053498235"
      ]
     },
     "execution_count": 20,
     "metadata": {},
     "output_type": "execute_result"
    }
   ],
   "source": [
    "mean_squared_error(y_valid, linreg.predict(X_valid_scaled)) # плохо интерпретируется, нужно взять корень"
   ]
  },
  {
   "cell_type": "code",
   "execution_count": 21,
   "metadata": {},
   "outputs": [
    {
     "data": {
      "text/plain": [
       "1121.7950140280689"
      ]
     },
     "execution_count": 21,
     "metadata": {},
     "output_type": "execute_result"
    }
   ],
   "source": [
    "np.sqrt(mean_squared_error(y_valid, linreg.predict(X_valid_scaled))) # на столько велосипедов ошибаемся"
   ]
  },
  {
   "cell_type": "markdown",
   "metadata": {},
   "source": [
    "# поймем на сколько это хорошо или плохо"
   ]
  },
  {
   "cell_type": "code",
   "execution_count": 22,
   "metadata": {},
   "outputs": [
    {
     "data": {
      "text/plain": [
       "<matplotlib.axes._subplots.AxesSubplot at 0x271af2df7f0>"
      ]
     },
     "execution_count": 22,
     "metadata": {},
     "output_type": "execute_result"
    },
    {
     "data": {
      "image/png": "[encoded data removed]",
      "text/plain": [
       "<Figure size 432x288 with 1 Axes>"
      ]
     },
     "metadata": {
      "needs_background": "light"
     },
     "output_type": "display_data"
    }
   ],
   "source": [
    "data['cnt'].hist() # прокат исчисляется от 0 до 9000б мы ошибаемся на 1121. Это разумно"
   ]
  },
  {
   "cell_type": "markdown",
   "metadata": {},
   "source": [
    "# коэффициенты линейной модели"
   ]
  },
  {
   "cell_type": "code",
   "execution_count": 23,
   "metadata": {},
   "outputs": [
    {
     "data": {
      "text/plain": [
       "array([ 4.04856603e+02,  9.54070649e+02,  3.08108975e+01, -6.75738494e+01,\n",
       "        1.03711924e+02,  1.47031025e+01, -2.93815011e+02,  6.24980791e+01,\n",
       "        8.91158929e+02, -1.58978455e+02, -3.04901954e+12,  3.04901953e+12])"
      ]
     },
     "execution_count": 23,
     "metadata": {},
     "output_type": "execute_result"
    }
   ],
   "source": [
    "linreg.coef_"
   ]
  },
  {
   "cell_type": "markdown",
   "metadata": {},
   "source": [
    "# выведем в удобном виде. Коэффициенты по убыванию"
   ]
  },
  {
   "cell_type": "markdown",
   "metadata": {},
   "source": [
    "# видно, как прогноз страдает от мультиколлинеарности. windspeed(ms) и windspeed(mph) аж в 10**12"
   ]
  },
  {
   "cell_type": "code",
   "execution_count": 24,
   "metadata": {},
   "outputs": [
    {
     "data": {
      "text/html": [
       "<div>\n",
       "<style scoped>\n",
       "    .dataframe tbody tr th:only-of-type {\n",
       "        vertical-align: middle;\n",
       "    }\n",
       "\n",
       "    .dataframe tbody tr th {\n",
       "        vertical-align: top;\n",
       "    }\n",
       "\n",
       "    .dataframe thead th {\n",
       "        text-align: right;\n",
       "    }\n",
       "</style>\n",
       "<table border=\"1\" class=\"dataframe\">\n",
       "  <thead>\n",
       "    <tr style=\"text-align: right;\">\n",
       "      <th></th>\n",
       "      <th>coef</th>\n",
       "    </tr>\n",
       "  </thead>\n",
       "  <tbody>\n",
       "    <tr>\n",
       "      <td>windspeed(ms)</td>\n",
       "      <td>3.049020e+12</td>\n",
       "    </tr>\n",
       "    <tr>\n",
       "      <td>yr</td>\n",
       "      <td>9.540706e+02</td>\n",
       "    </tr>\n",
       "    <tr>\n",
       "      <td>atemp</td>\n",
       "      <td>8.911589e+02</td>\n",
       "    </tr>\n",
       "    <tr>\n",
       "      <td>season</td>\n",
       "      <td>4.048566e+02</td>\n",
       "    </tr>\n",
       "    <tr>\n",
       "      <td>weekday</td>\n",
       "      <td>1.037119e+02</td>\n",
       "    </tr>\n",
       "    <tr>\n",
       "      <td>temp</td>\n",
       "      <td>6.249808e+01</td>\n",
       "    </tr>\n",
       "    <tr>\n",
       "      <td>mnth</td>\n",
       "      <td>3.081090e+01</td>\n",
       "    </tr>\n",
       "    <tr>\n",
       "      <td>workingday</td>\n",
       "      <td>1.470310e+01</td>\n",
       "    </tr>\n",
       "    <tr>\n",
       "      <td>holiday</td>\n",
       "      <td>-6.757385e+01</td>\n",
       "    </tr>\n",
       "    <tr>\n",
       "      <td>hum</td>\n",
       "      <td>-1.589785e+02</td>\n",
       "    </tr>\n",
       "    <tr>\n",
       "      <td>weathersit</td>\n",
       "      <td>-2.938150e+02</td>\n",
       "    </tr>\n",
       "    <tr>\n",
       "      <td>windspeed(mph)</td>\n",
       "      <td>-3.049020e+12</td>\n",
       "    </tr>\n",
       "  </tbody>\n",
       "</table>\n",
       "</div>"
      ],
      "text/plain": [
       "                        coef\n",
       "windspeed(ms)   3.049020e+12\n",
       "yr              9.540706e+02\n",
       "atemp           8.911589e+02\n",
       "season          4.048566e+02\n",
       "weekday         1.037119e+02\n",
       "temp            6.249808e+01\n",
       "mnth            3.081090e+01\n",
       "workingday      1.470310e+01\n",
       "holiday        -6.757385e+01\n",
       "hum            -1.589785e+02\n",
       "weathersit     -2.938150e+02\n",
       "windspeed(mph) -3.049020e+12"
      ]
     },
     "execution_count": 24,
     "metadata": {},
     "output_type": "execute_result"
    }
   ],
   "source": [
    "pd.DataFrame(linreg.coef_, data.columns[:-1], columns=['coef']).sort_values(by='coef', ascending=False)"
   ]
  },
  {
   "cell_type": "markdown",
   "metadata": {},
   "source": [
    "# Регуляризация поможет избавиться от этого "
   ]
  },
  {
   "cell_type": "code",
   "execution_count": 25,
   "metadata": {},
   "outputs": [],
   "source": [
    "# Для удобства заведем функцию, которая будет обучать, выводить прогноз, выводить коэффициенты.\n",
    "# То же самое, что делали выше для МНК обернем в функцию\n",
    "def train_validate_report(model, X_train_scaled, y_train, X_valid_scaled, y_valid, feature_names):\n",
    "    model.fit(X_train_scaled, y_train)\n",
    "    print(\"MSE=%f\" % np.sqrt(mean_squared_error(y_valid, \n",
    "                                     model.predict(X_valid_scaled))))\n",
    "    print('Model coefficients:')\n",
    "    print(pd.DataFrame(model.coef_, \n",
    "                       feature_names, columns=['coef']).sort_values(by='coef', \n",
    "                                                                    ascending=False))"
   ]
  },
  {
   "cell_type": "code",
   "execution_count": 26,
   "metadata": {},
   "outputs": [
    {
     "name": "stdout",
     "output_type": "stream",
     "text": [
      "MSE=1120.721409\n",
      "Model coefficients:\n",
      "                      coef\n",
      "yr              952.804560\n",
      "atemp           877.159813\n",
      "season          403.416439\n",
      "weekday         102.643044\n",
      "temp             75.953962\n",
      "mnth             29.857599\n",
      "workingday       14.173377\n",
      "windspeed(ms)    -0.000000\n",
      "holiday         -67.073435\n",
      "hum            -157.547615\n",
      "windspeed(mph) -187.341353\n",
      "weathersit     -293.177257\n"
     ]
    }
   ],
   "source": [
    "train_validate_report(lasso, X_train_scaled, y_train, X_valid_scaled, y_valid, feature_names=data.columns[:-1])"
   ]
  },
  {
   "cell_type": "markdown",
   "metadata": {},
   "source": [
    "# получилось чуть меньше чем при МНК, но главное- мы не видим астрономических коэффициентов. ЛАССО модель тут боролась с мультиколлинеарностью. Она занулила windspeed(ms)"
   ]
  },
  {
   "cell_type": "markdown",
   "metadata": {},
   "source": [
    "# У ЛАССО коэффициент регуляризации АЛЬФА по умолчанию = 1.\n",
    "# чем БОЛЬШЕ АЛЬФА, тем сильнее зануляются признаки, если АЛЬФА = 0 - это тот же МНК"
   ]
  },
  {
   "cell_type": "code",
   "execution_count": 27,
   "metadata": {},
   "outputs": [
    {
     "name": "stderr",
     "output_type": "stream",
     "text": [
      "C:\\Users\\User\\Anaconda3\\lib\\site-packages\\sklearn\\model_selection\\_split.py:1978: FutureWarning: The default value of cv will change from 3 to 5 in version 0.22. Specify it explicitly to silence this warning.\n",
      "  warnings.warn(CV_WARNING, FutureWarning)\n"
     ]
    },
    {
     "name": "stdout",
     "output_type": "stream",
     "text": [
      "MSE=1241.823261\n",
      "Model coefficients:\n",
      "                      coef\n",
      "atemp           886.374386\n",
      "yr              784.305733\n",
      "season          272.280614\n",
      "weekday          12.617944\n",
      "mnth              0.000000\n",
      "holiday          -0.000000\n",
      "workingday        0.000000\n",
      "temp              0.000000\n",
      "windspeed(ms)    -0.000000\n",
      "hum              -9.823886\n",
      "windspeed(mph)  -77.728632\n",
      "weathersit     -279.739913\n"
     ]
    }
   ],
   "source": [
    "train_validate_report(lasso_cv, X_train_scaled, y_train, X_valid_scaled, y_valid, feature_names=data.columns[:-1])"
   ]
  },
  {
   "cell_type": "markdown",
   "metadata": {},
   "source": [
    "# lasso_cv Переберет по кросс-валидации список параметров АЛЬФА по умолчанию. MSE получился больше, потому что значения по умолчанию, видимо, не очень подходят. можно будет настроить вручную"
   ]
  },
  {
   "cell_type": "code",
   "execution_count": 28,
   "metadata": {},
   "outputs": [
    {
     "data": {
      "text/plain": [
       "array([1.00067072e+03, 9.33228862e+02, 8.70332360e+02, 8.11674872e+02,\n",
       "       7.56970702e+02, 7.05953410e+02, 6.58374513e+02, 6.14002274e+02,\n",
       "       5.72620576e+02, 5.34027866e+02, 4.98036175e+02, 4.64470204e+02,\n",
       "       4.33166466e+02, 4.03972496e+02, 3.76746102e+02, 3.51354676e+02,\n",
       "       3.27674547e+02, 3.05590379e+02, 2.84994610e+02, 2.65786927e+02,\n",
       "       2.47873778e+02, 2.31167915e+02, 2.15587971e+02, 2.01058063e+02,\n",
       "       1.87507423e+02, 1.74870050e+02, 1.63084394e+02, 1.52093052e+02,\n",
       "       1.41842489e+02, 1.32282780e+02, 1.23367363e+02, 1.15052816e+02,\n",
       "       1.07298641e+02, 1.00067072e+02, 9.33228862e+01, 8.70332360e+01,\n",
       "       8.11674872e+01, 7.56970702e+01, 7.05953410e+01, 6.58374513e+01,\n",
       "       6.14002274e+01, 5.72620576e+01, 5.34027866e+01, 4.98036175e+01,\n",
       "       4.64470204e+01, 4.33166466e+01, 4.03972496e+01, 3.76746102e+01,\n",
       "       3.51354676e+01, 3.27674547e+01, 3.05590379e+01, 2.84994610e+01,\n",
       "       2.65786927e+01, 2.47873778e+01, 2.31167915e+01, 2.15587971e+01,\n",
       "       2.01058063e+01, 1.87507423e+01, 1.74870050e+01, 1.63084394e+01,\n",
       "       1.52093052e+01, 1.41842489e+01, 1.32282780e+01, 1.23367363e+01,\n",
       "       1.15052816e+01, 1.07298641e+01, 1.00067072e+01, 9.33228862e+00,\n",
       "       8.70332360e+00, 8.11674872e+00, 7.56970702e+00, 7.05953410e+00,\n",
       "       6.58374513e+00, 6.14002274e+00, 5.72620576e+00, 5.34027866e+00,\n",
       "       4.98036175e+00, 4.64470204e+00, 4.33166466e+00, 4.03972496e+00,\n",
       "       3.76746102e+00, 3.51354676e+00, 3.27674547e+00, 3.05590379e+00,\n",
       "       2.84994610e+00, 2.65786927e+00, 2.47873778e+00, 2.31167915e+00,\n",
       "       2.15587971e+00, 2.01058063e+00, 1.87507423e+00, 1.74870050e+00,\n",
       "       1.63084394e+00, 1.52093052e+00, 1.41842489e+00, 1.32282780e+00,\n",
       "       1.23367363e+00, 1.15052816e+00, 1.07298641e+00, 1.00067072e+00])"
      ]
     },
     "execution_count": 28,
     "metadata": {},
     "output_type": "execute_result"
    }
   ],
   "source": [
    "lasso_cv.alphas_ # те значения, которые он перебирает. 100 значений от 1000 до 1"
   ]
  },
  {
   "cell_type": "markdown",
   "metadata": {},
   "source": [
    "# Можно отдельно запустить lasso_cv отдельно с заданными вручную alphas"
   ]
  },
  {
   "cell_type": "markdown",
   "metadata": {},
   "source": [
    "# Аналогично сделаем для ridge и ridge.sv"
   ]
  },
  {
   "cell_type": "code",
   "execution_count": 29,
   "metadata": {},
   "outputs": [
    {
     "name": "stdout",
     "output_type": "stream",
     "text": [
      "MSE=1119.560520\n",
      "Model coefficients:\n",
      "                      coef\n",
      "yr              954.075878\n",
      "atemp           730.747340\n",
      "season          400.114172\n",
      "temp            221.406072\n",
      "weekday         103.198680\n",
      "mnth             34.687740\n",
      "workingday       15.334339\n",
      "holiday         -69.046689\n",
      "windspeed(ms)   -95.819798\n",
      "windspeed(mph)  -95.819798\n",
      "hum            -157.702520\n",
      "weathersit     -293.899386\n"
     ]
    }
   ],
   "source": [
    "train_validate_report(ridge, X_train_scaled, y_train, X_valid_scaled, y_valid, feature_names=data.columns[:-1])"
   ]
  },
  {
   "cell_type": "code",
   "execution_count": 30,
   "metadata": {},
   "outputs": [
    {
     "name": "stdout",
     "output_type": "stream",
     "text": [
      "MSE=1118.903543\n",
      "Model coefficients:\n",
      "                      coef\n",
      "yr              934.401985\n",
      "atemp           534.482125\n",
      "temp            410.485392\n",
      "season          375.585733\n",
      "weekday         100.838401\n",
      "mnth             48.142392\n",
      "workingday       16.165284\n",
      "holiday         -70.019251\n",
      "windspeed(ms)   -97.770430\n",
      "windspeed(mph)  -97.770430\n",
      "hum            -155.174377\n",
      "weathersit     -291.035853\n"
     ]
    }
   ],
   "source": [
    "train_validate_report(ridge_cv, X_train_scaled, y_train, X_valid_scaled, y_valid, feature_names=data.columns[:-1])"
   ]
  },
  {
   "cell_type": "markdown",
   "metadata": {},
   "source": [
    "# ridge_cv (гребневая ф-я) показывает лучшую цифру, видимо alphas попало в хороший диапазон, при чем ничего не пришлось обнулять. Взяла с одинаковыми коэффициентами скорости ветра"
   ]
  },
  {
   "cell_type": "code",
   "execution_count": null,
   "metadata": {},
   "outputs": [],
   "source": []
  },
  {
   "cell_type": "code",
   "execution_count": null,
   "metadata": {},
   "outputs": [],
   "source": []
  },
  {
   "cell_type": "markdown",
   "metadata": {},
   "source": [
    "# Cравним это всё дело со случайным лесом. За одним исключением, у леса решений будут не коэффициенты, а оченка важности признака"
   ]
  },
  {
   "cell_type": "code",
   "execution_count": 47,
   "metadata": {},
   "outputs": [],
   "source": [
    "# For regression trees\n",
    "def train_validate_report_forest(model, X_train_scaled, y_train, X_valid_scaled, y_valid, feature_names):\n",
    "    model.fit(X_train_scaled, y_train)\n",
    "    print(\"MSE=%f\" % np.sqrt(mean_squared_error(y_valid, \n",
    "                                     model.predict(X_valid_scaled))))\n",
    "    print('Model coefficients:')\n",
    "    coef = model.feature_importances_ \n",
    "    print(pd.DataFrame(coef, \n",
    "                       feature_names, columns=['Важность признаков:']).sort_values(by='Важность признаков:', \n",
    "                                                                    ascending=False))"
   ]
  },
  {
   "cell_type": "code",
   "execution_count": 51,
   "metadata": {},
   "outputs": [],
   "source": [
    "forest = RandomForestRegressor(random_state=17, n_estimators=500)"
   ]
  },
  {
   "cell_type": "code",
   "execution_count": 52,
   "metadata": {},
   "outputs": [
    {
     "name": "stdout",
     "output_type": "stream",
     "text": [
      "MSE=1047.137676\n",
      "Model coefficients:\n",
      "                Важность признаков:\n",
      "temp                       0.298609\n",
      "atemp                      0.243309\n",
      "yr                         0.199314\n",
      "hum                        0.070565\n",
      "season                     0.062295\n",
      "weathersit                 0.030535\n",
      "mnth                       0.027786\n",
      "windspeed(mph)             0.020349\n",
      "weekday                    0.019819\n",
      "windspeed(ms)              0.019613\n",
      "workingday                 0.005191\n",
      "holiday                    0.002615\n"
     ]
    }
   ],
   "source": [
    "train_validate_report_forest(forest, X_train_scaled, y_train, X_valid_scaled, y_valid, feature_names=data.columns[:-1])"
   ]
  },
  {
   "cell_type": "markdown",
   "metadata": {},
   "source": [
    "# можно брать и неотмасштабированные. Ничего не изменится"
   ]
  },
  {
   "cell_type": "code",
   "execution_count": 53,
   "metadata": {},
   "outputs": [
    {
     "name": "stdout",
     "output_type": "stream",
     "text": [
      "MSE=1046.960772\n",
      "Model coefficients:\n",
      "                Важность признаков:\n",
      "temp                       0.298609\n",
      "atemp                      0.243309\n",
      "yr                         0.199314\n",
      "hum                        0.070565\n",
      "season                     0.062295\n",
      "weathersit                 0.030535\n",
      "mnth                       0.027786\n",
      "windspeed(mph)             0.020349\n",
      "weekday                    0.019819\n",
      "windspeed(ms)              0.019613\n",
      "workingday                 0.005191\n",
      "holiday                    0.002615\n"
     ]
    }
   ],
   "source": [
    "train_validate_report_forest(forest, X_train, y_train, X_valid, y_valid, feature_names=data.columns[:-1])"
   ]
  },
  {
   "cell_type": "markdown",
   "metadata": {},
   "source": [
    "# в итоге дерево дало лучше качество, к тому же масштабирование не нужно. Выбросы он спокойно переварит, мультиколлинеарность почти не повлияла"
   ]
  },
  {
   "cell_type": "markdown",
   "metadata": {},
   "source": [
    "# по сути можно на ночь ставить 100000 деревьев, но прежде нужно исследовать значимость числа деревьев"
   ]
  },
  {
   "cell_type": "code",
   "execution_count": null,
   "metadata": {},
   "outputs": [],
   "source": []
  },
  {
   "cell_type": "code",
   "execution_count": null,
   "metadata": {},
   "outputs": [],
   "source": []
  },
  {
   "cell_type": "code",
   "execution_count": null,
   "metadata": {},
   "outputs": [],
   "source": []
  },
  {
   "cell_type": "code",
   "execution_count": null,
   "metadata": {},
   "outputs": [],
   "source": []
  },
  {
   "cell_type": "code",
   "execution_count": null,
   "metadata": {},
   "outputs": [],
   "source": []
  },
  {
   "cell_type": "code",
   "execution_count": null,
   "metadata": {},
   "outputs": [],
   "source": []
  },
  {
   "cell_type": "code",
   "execution_count": null,
   "metadata": {},
   "outputs": [],
   "source": []
  },
  {
   "cell_type": "code",
   "execution_count": null,
   "metadata": {},
   "outputs": [],
   "source": []
  },
  {
   "cell_type": "code",
   "execution_count": null,
   "metadata": {},
   "outputs": [],
   "source": []
  },
  {
   "cell_type": "code",
   "execution_count": null,
   "metadata": {},
   "outputs": [],
   "source": []
  },
  {
   "cell_type": "code",
   "execution_count": null,
   "metadata": {},
   "outputs": [],
   "source": []
  },
  {
   "cell_type": "code",
   "execution_count": null,
   "metadata": {},
   "outputs": [],
   "source": []
  },
  {
   "cell_type": "code",
   "execution_count": null,
   "metadata": {},
   "outputs": [],
   "source": []
  },
  {
   "cell_type": "code",
   "execution_count": null,
   "metadata": {},
   "outputs": [],
   "source": []
  },
  {
   "cell_type": "code",
   "execution_count": null,
   "metadata": {},
   "outputs": [],
   "source": []
  }
 ],
 "metadata": {
  "kernelspec": {
   "display_name": "Python 3",
   "language": "python",
   "name": "python3"
  },
  "language_info": {
   "codemirror_mode": {
    "name": "ipython",
    "version": 3
   },
   "file_extension": ".py",
   "mimetype": "text/x-python",
   "name": "python",
   "nbconvert_exporter": "python",
   "pygments_lexer": "ipython3",
   "version": "3.7.3"
  }
 },
 "nbformat": 4,
 "nbformat_minor": 2
}
