{
 "cells": [
  {
   "cell_type": "code",
   "execution_count": 3,
   "metadata": {},
   "outputs": [
    {
     "name": "stderr",
     "output_type": "stream",
     "text": [
      "C:\\Users\\User\\Anaconda3\\lib\\site-packages\\ipykernel_launcher.py:55: MatplotlibDeprecationWarning: \n",
      "The 'normed' kwarg was deprecated in Matplotlib 2.1 and will be removed in 3.1. Use 'density' instead.\n"
     ]
    },
    {
     "name": "stdout",
     "output_type": "stream",
     "text": [
      "Ex= 1.1111111111111112  STD= 0.12422599874998831  DX= 0.015432098765432098\n"
     ]
    },
    {
     "name": "stderr",
     "output_type": "stream",
     "text": [
      "C:\\Users\\User\\Anaconda3\\lib\\site-packages\\ipykernel_launcher.py:78: MatplotlibDeprecationWarning: \n",
      "The 'normed' kwarg was deprecated in Matplotlib 2.1 and will be removed in 3.1. Use 'density' instead.\n"
     ]
    },
    {
     "name": "stdout",
     "output_type": "stream",
     "text": [
      "мат. ожидание= 1.1111111111111112\n",
      "sigma= 0.05555555555555555\n",
      "мат. ожидание= 1.1111111111111112\n",
      "sigma= 0.039283710065919304\n",
      "мат. ожидание= 1.1111111111111112\n",
      "sigma= 0.017568209223157664\n"
     ]
    },
    {
     "data": {
      "image/png": "[encoded data removed]",
      "text/plain": [
       "<Figure size 432x288 with 1 Axes>"
      ]
     },
     "metadata": {
      "needs_background": "light"
     },
     "output_type": "display_data"
    }
   ],
   "source": [
    "# # Центральная предельная теорема своими руками\n",
    "# \n",
    "\n",
    "# Выберите ваше любимое непрерывное распределение (чем меньше оно будет похоже на нормальное, тем интереснее; попробуйте выбрать какое-нибудь распределение из тех, что мы не обсуждали в курсе). \n",
    "# Сгенерируйте из него выборку объёма 1000, постройте гистограмму выборки и нарисуйте поверх неё теоретическую плотность распределения вашей случайной величины.\n",
    "# \n",
    "# \n",
    "# Для нескольких значений n (например, 5, 10, 50) сгенерируйте 1000 выборок объёма n и постройте гистограммы распределений их выборочных средних. Используя информацию о среднем и дисперсии исходного распределения (её можно без труда найти в википедии), посчитайте значения параметров нормальных распределений, которыми, согласно центральной предельной теореме, приближается распределение выборочных средних. Обратите внимание: для подсчёта значений этих параметров нужно использовать именно теоретические среднее и дисперсию вашей случайной величины, а не их выборочные оценки. Поверх каждой гистограммы нарисуйте плотность соответствующего нормального распределения.\n",
    "# \n",
    "# Опишите разницу между полученными распределениями при различных значениях n. Как меняется точность аппроксимации распределения выборочных средних нормальным с ростом n?\n",
    "# \n",
    "# Решение должно представлять собой IPython-ноутбук, содержащий:\n",
    "# код, генерирующий выборки и графики; \n",
    "# краткие описания каждого блока кода, \n",
    "# объясняющие, что он делает; \n",
    "# необходимые графики (убедитесь, что на них подписаны оси); \n",
    "# выкладки с вычислениями параметров нормальных распределений, аппроксимирующих выборочные средние при различных n; \n",
    "# выводы по результатам выполнения задания.\n",
    "\n",
    "# ## Распределе́ние Паре́то\n",
    "\n",
    "# Распределе́ние Паре́то в теории вероятностей — двухпараметрическое семейство абсолютно непрерывных \n",
    "# распределений, являющихся степенными. Называется по имени Вилфредо Парето. \n",
    "# Встречается при исследовании различных явлений, в частности, социальных, экономических, физических \n",
    "# и других[1]. Вне области экономики иногда называется также распределением Брэдфорда.\n",
    "# \n",
    "# Bилфредо Парето изначально использовал это распределение для описания распределения благосостояния, \n",
    "# а также распределения дохода[2]. Его правило 20 к 80 (которое гласит: 20 % популяции владеет 80 % богатства) \n",
    "# однако зависит от конкретной величины k, и утверждается, что фактически встречаются существенные \n",
    "# количественные отклонения, например, данные самого Парето по Британии в Cours d'économie politique \n",
    "# говорят, что там примерно 30 % населения владеет 70 % общего дохода.\n",
    "# \n",
    "# \n",
    "# http://docs.scipy.org/doc/scipy/reference/generated/scipy.stats.pareto.html#scipy.stats.pareto\n",
    "# \n",
    "# https://en.wikipedia.org/wiki/Pareto_distribution\n",
    "\n",
    "\n",
    "\n",
    "import math\n",
    "import numpy as np\n",
    "import matplotlib.pyplot as plt\n",
    "from scipy.stats import pareto\n",
    "import scipy.stats as sts\n",
    "%matplotlib inline\n",
    "\n",
    "\n",
    "\n",
    "\n",
    "# Выбор параметров для распределения\n",
    "k = 10\n",
    "#Сгенерируйте из него выборку объёма 1000\n",
    "sampleRange = pareto.rvs(k, size=1000)\n",
    "#Постройте гистограмму выборки и нарисуйте поверх неё теоретическую плотность распределения вашей случайной величины.\n",
    "plt.hist(sampleRange, normed=True, bins=20, alpha=0.5, label='hist samples pareto')\n",
    "plt.ylabel('number of samples')\n",
    "plt.xlabel('$x$')\n",
    "\n",
    "#теоретическая плотность распределения случайной величины\n",
    "left = pareto.ppf(0.01, k)\n",
    "right =  pareto.ppf(0.99, k)\n",
    "x = np.linspace(left,  right, 100)\n",
    "plt.plot(x, pareto.pdf(x, k), 'r-', lw=5, alpha=0.7, label='pareto pdf')\n",
    "plt.legend(loc='best')\n",
    "\n",
    "\n",
    "\n",
    "\n",
    "# функция построения гистограммы распределений выборочных средних \n",
    "# и плотности соответствующего нормального распределения \n",
    "# sizeSamples - выбороки объёма n\n",
    "def paretoF(sizeSamples, Ex, Dx):\n",
    "    n = sizeSamples\n",
    "    #генерация выборок\n",
    "    values = np.array([ pareto.rvs(k, size=n) for x in range(1000)])\n",
    "    #вычисление выборочных средних\n",
    "    meanVal = values.mean(axis = 1)\n",
    "    plt.hist(meanVal, normed=True, alpha=0.5, label='hist mean n ' + str(n))\n",
    "    \n",
    "    #мат. ожидание м sigma нормального распределения\n",
    "    mu = Ex\n",
    "    sigma = math.sqrt(Dx/n)\n",
    "    print('мат. ожидание=' , mu)\n",
    "    print('sigma=' , sigma)\n",
    "    # зададим нормальное распределенние\n",
    "    norm_rv = sts.norm(loc=mu, scale=sigma)\n",
    "    x = np.linspace(0.5,2,100)\n",
    "    pdf = norm_rv.pdf(x)\n",
    "    plt.plot(x, pdf, 'r-', lw=3, alpha=0.7, label='pareto pdf n ' + str(n))\n",
    "    plt.ylabel('samples')\n",
    "    plt.xlabel('$x$')\n",
    "    plt.legend(loc='best')\n",
    "\n",
    "    \n",
    "\n",
    "\n",
    "\n",
    "#Вычисление теоритических EX, std, DX  распределения\n",
    "EX = pareto.mean(k)\n",
    "std = pareto.std(k)\n",
    "DX = std**2\n",
    "print('Ex=', EX, ' STD=', std, ' DX=', DX)\n",
    "\n",
    "\n",
    "\n",
    "\n",
    "\n",
    "paretoF(5, EX, DX)\n",
    "\n",
    "\n",
    "\n",
    "paretoF(10, EX, DX)\n",
    "\n",
    "\n",
    "\n",
    "\n",
    "paretoF(50, EX, DX)\n",
    "\n",
    "\n",
    "# ## Вывод: \n",
    "# Распределение выборочных средних для функции pareto хорошо описывается нормальным распределением.\n",
    "# С ростом n точность аппроксимации увеличивается."
   ]
  },
  {
   "cell_type": "code",
   "execution_count": null,
   "metadata": {},
   "outputs": [],
   "source": []
  }
 ],
 "metadata": {
  "kernelspec": {
   "display_name": "Python 3",
   "language": "python",
   "name": "python3"
  },
  "language_info": {
   "codemirror_mode": {
    "name": "ipython",
    "version": 3
   },
   "file_extension": ".py",
   "mimetype": "text/x-python",
   "name": "python",
   "nbconvert_exporter": "python",
   "pygments_lexer": "ipython3",
   "version": "3.7.3"
  }
 },
 "nbformat": 4,
 "nbformat_minor": 2
}
