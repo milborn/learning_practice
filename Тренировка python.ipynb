{
 "cells": [
  {
   "cell_type": "markdown",
   "metadata": {},
   "source": [
    "# Коля каждый день ложится спать ровно в полночь и недавно узнал, что оптимальное время для его сна составляет XX минут. Коля хочет поставить себе будильник так, чтобы он прозвенел ровно через XX минут после полуночи, однако для этого необходимо указать время сигнала в формате часы, минуты. Помогите Коле определить, на какое время завести будильник."
   ]
  },
  {
   "cell_type": "code",
   "execution_count": null,
   "metadata": {},
   "outputs": [],
   "source": [
    "X = int(input())\n",
    "hour = X // 60\n",
    "minute = X % 60\n",
    "print(hour)\n",
    "print(minute)"
   ]
  },
  {
   "cell_type": "code",
   "execution_count": null,
   "metadata": {},
   "outputs": [],
   "source": []
  },
  {
   "cell_type": "code",
   "execution_count": null,
   "metadata": {},
   "outputs": [],
   "source": []
  },
  {
   "cell_type": "markdown",
   "metadata": {},
   "source": [
    "# Катя узнала, что ей для сна надо XX минут. В отличие от Коли, Катя ложится спать после полуночи в HH часов и MM минут. Помогите Кате определить, на какое время ей поставить будильник, чтобы он прозвенел ровно через XX минут после того, как она ляжет спать.\n",
    "\n",
    "На стандартный ввод, каждое в своей строке, подаются значения XX, HH и MM. Гарантируется, что Катя должна проснуться в тот же день, что и заснуть. Программа должна выводить время, на которое нужно поставить будильник: в первой строке часы, во второй — минуты."
   ]
  },
  {
   "cell_type": "code",
   "execution_count": null,
   "metadata": {},
   "outputs": [],
   "source": [
    "X = int(input())\n",
    "H = int(input())\n",
    "M = int(input())\n",
    "y = H * 60 + M\n",
    "result = X + y\n",
    "hour = result // 60\n",
    "minute = result % 60\n",
    "print(hour)\n",
    "print(minute)"
   ]
  },
  {
   "cell_type": "code",
   "execution_count": null,
   "metadata": {},
   "outputs": [],
   "source": []
  },
  {
   "cell_type": "code",
   "execution_count": null,
   "metadata": {},
   "outputs": [],
   "source": []
  },
  {
   "cell_type": "markdown",
   "metadata": {},
   "source": [
    "# Из передачи “Здоровье” Аня узнала, что рекомендуется спать хотя бы AA часов в сутки, но пересыпать тоже вредно и не стоит спать более BB часов. Сейчас Аня спит HH часов в сутки. Если режим сна Ани удовлетворяет рекомендациям передачи “Здоровье”, выведите “Это нормально”. Если Аня спит менее AA часов, выведите “Недосып”, если же более BB часов, то выведите “Пересып”.\n",
    "\n",
    "Получаемое число AA всегда меньше либо равно BB.\n",
    "\n",
    "На вход программе в три строки подаются переменные в следующем порядке: AA, BB, HH.\n",
    "\n",
    "Обратите внимание на регистр символов: вывод должен в точности соответствовать описанному в задании, т. е. если программа должна вывести \"Пересып\", выводы программы \"пересып\", \"ПЕРЕСЫП\", \"ПеРеСыП\" и другие не будут считаться верными.\n",
    "\n",
    "Это первое не самое тривиальное задание на условное выражение. В случаях, когда разбить исполнение программы на несколько направлений, стоит внимательно обдумать все условия, которые нужно использовать. Особое внимание стоит уделить строгости используемых условных операторов: различайте \\lt< и \\le≤; \\gt> и \\ge≥. Для того, чтобы понимать, какой из них стоит использовать, внимательно прочитайте условие задания."
   ]
  },
  {
   "cell_type": "code",
   "execution_count": null,
   "metadata": {},
   "outputs": [],
   "source": [
    "A = int(input())\n",
    "B = int(input())\n",
    "H = int(input())\n",
    "if A <= H <= B:\n",
    "    print('Это нормально')\n",
    "elif H > B:\n",
    "    print('Пересып')\n",
    "else:\n",
    "    print('Недосып')"
   ]
  },
  {
   "cell_type": "code",
   "execution_count": null,
   "metadata": {},
   "outputs": [],
   "source": []
  },
  {
   "cell_type": "code",
   "execution_count": null,
   "metadata": {},
   "outputs": [],
   "source": []
  },
  {
   "cell_type": "markdown",
   "metadata": {},
   "source": [
    "# Требуется определить, является ли данный год високосным.\n",
    "\n",
    "Напомним, что високосными годами считаются те годы, порядковый номер которых либо кратен 4, но при этом не кратен 100, либо кратен 400 (например, 2000-й год являлся високосным, а 2100-й будет невисокосным годом).\n",
    "\n",
    "Программа должна корректно работать на числах 1900≤n≤3000.\n",
    "\n",
    "Выведите \"Високосный\" в случае, если считанный год является високосным и \"Обычный\" в обратном случае (не забывайте проверять регистр выводимых программой символов)."
   ]
  },
  {
   "cell_type": "code",
   "execution_count": null,
   "metadata": {},
   "outputs": [],
   "source": [
    "year = int(input())\n",
    "if year % 4 == 0 and year % 100 != 0 or year % 400 == 0:\n",
    "    print('Високосный')\n",
    "else:\n",
    "    print('Обычный')"
   ]
  },
  {
   "cell_type": "code",
   "execution_count": null,
   "metadata": {},
   "outputs": [],
   "source": []
  },
  {
   "cell_type": "code",
   "execution_count": null,
   "metadata": {},
   "outputs": [],
   "source": []
  },
  {
   "cell_type": "markdown",
   "metadata": {},
   "source": [
    "# В то далёкое время, когда Паша ходил в школу, ему очень не нравилась формула Герона для вычисления площади треугольника, так как казалась слишком сложной. В один прекрасный момент Павел решил избавить всех школьников от страданий и написать и распространить по школам программу, вычисляющую площадь треугольника по трём сторонам.\n",
    "\n",
    "Одна проблема: так как эта формула не нравилась Павлу, он её не запомнил. Помогите ему завершить доброе дело и напишите программу, вычисляющую площадь треугольника по переданным длинам трёх его сторон по формуле Герона:\n",
    "\n",
    "$$S=\\sqrt{p(p−a)(p−b)(p−c)}$$\n",
    "$$S= p(p−a)(p−b)(p−c)$$\n",
    " \n",
    "где $$p= (a+b+c)/2 $$\n",
    "  – полупериметр треугольника. На вход программе подаются целые числа, выводом программы должно являться вещественное число, соответствующее площади треугольника."
   ]
  },
  {
   "cell_type": "code",
   "execution_count": null,
   "metadata": {},
   "outputs": [],
   "source": [
    "a = float(input())\n",
    "b = float(input())\n",
    "c = float(input())\n",
    "p = (a + b + c) / 2\n",
    "s = (p*(p-a)*(p-b)*(p-c))**0.5\n",
    "print(s)"
   ]
  },
  {
   "cell_type": "code",
   "execution_count": null,
   "metadata": {},
   "outputs": [],
   "source": []
  },
  {
   "cell_type": "code",
   "execution_count": null,
   "metadata": {},
   "outputs": [],
   "source": []
  },
  {
   "cell_type": "markdown",
   "metadata": {},
   "source": [
    "# Напишите программу, принимающую на вход целое число, которая выводит True, если переданное значение попадает в интервал $(-15, 12] \\cup (14, 17) \\cup [19, +\\infty)(−15,12]∪(14,17)∪[19,+∞)$ и False в противном случае (регистр символов имеет значение).\n",
    "\n",
    "Обратите внимание на разные скобки, используемые для обозначения интервалов. В задании используются полуоткрытые и открытые интервалы."
   ]
  },
  {
   "cell_type": "code",
   "execution_count": null,
   "metadata": {},
   "outputs": [],
   "source": [
    "a = float(input())\n",
    "if -15 < a <= 12 or 14 < a < 17 or a >= 19:\n",
    "    print('True')\n",
    "else:\n",
    "    print('False')\n"
   ]
  },
  {
   "cell_type": "code",
   "execution_count": null,
   "metadata": {},
   "outputs": [],
   "source": []
  },
  {
   "cell_type": "code",
   "execution_count": null,
   "metadata": {},
   "outputs": [],
   "source": []
  },
  {
   "cell_type": "markdown",
   "metadata": {},
   "source": [
    "# Напишите простой калькулятор, который считывает с пользовательского ввода три строки: первое число, второе число и операцию, после чего применяет операцию к введённым числам (\"первое число\" \"операция\" \"второе число\") и выводит результат на экран.\n",
    "\n",
    "Поддерживаемые операции: +, -, /, *, mod, pow, div, где\n",
    "mod — это взятие остатка от деления,\n",
    "pow — возведение в степень,\n",
    "div — целочисленное деление.\n",
    "\n",
    "Если выполняется деление и второе число равно 0, необходимо выводить строку \"Деление на 0!\".\n",
    "\n",
    "Обратите внимание, что на вход программе приходят вещественные числа."
   ]
  },
  {
   "cell_type": "code",
   "execution_count": null,
   "metadata": {},
   "outputs": [],
   "source": [
    "a = float(input())\n",
    "b = float(input())\n",
    "operation = input()\n",
    "if operation == '+':\n",
    "    result = a + b\n",
    "elif operation == '-':\n",
    "    result = a - b\n",
    "elif operation == '/':\n",
    "    if b != 0:\n",
    "        result = a / b\n",
    "    else:\n",
    "        result = 'Деление на 0!'\n",
    "elif operation == '*':\n",
    "    result = a * b\n",
    "elif operation == 'mod':\n",
    "    result = a % b\n",
    "elif operation == 'pow':\n",
    "    result = a ** b\n",
    "elif operation == 'div':\n",
    "    result = a // b\n",
    "\n",
    "print(result)"
   ]
  },
  {
   "cell_type": "code",
   "execution_count": null,
   "metadata": {},
   "outputs": [],
   "source": []
  },
  {
   "cell_type": "code",
   "execution_count": null,
   "metadata": {},
   "outputs": [],
   "source": []
  },
  {
   "cell_type": "markdown",
   "metadata": {},
   "source": [
    "# Жители страны Малевии часто экспериментируют с планировкой комнат. Комнаты бывают треугольные, прямоугольные и круглые. Чтобы быстро вычислять жилплощадь, требуется написать программу, на вход которой подаётся тип фигуры комнаты и соответствующие параметры, которая бы выводила площадь получившейся комнаты.\n",
    "# Для числа π в стране Малевии используют значение 3.14."
   ]
  },
  {
   "cell_type": "code",
   "execution_count": null,
   "metadata": {},
   "outputs": [],
   "source": [
    "type = input()\n",
    "if type == 'треугольник':\n",
    "    a = float(input())\n",
    "    b = float(input())\n",
    "    c = float(input())\n",
    "    p = (a + b + c) / 2\n",
    "    s = (p*(p-a)*(p-b)*(p-c))**0.5\n",
    "elif type == 'прямоугольник':\n",
    "    a = float(input())\n",
    "    b = float(input())\n",
    "    s = a * b\n",
    "elif type == 'круг':\n",
    "    r = float(input())\n",
    "    s = 3.14 * (r**2)\n",
    "print(s)"
   ]
  },
  {
   "cell_type": "code",
   "execution_count": null,
   "metadata": {},
   "outputs": [],
   "source": []
  },
  {
   "cell_type": "code",
   "execution_count": null,
   "metadata": {},
   "outputs": [],
   "source": []
  },
  {
   "cell_type": "markdown",
   "metadata": {},
   "source": [
    "# Напишите программу, которая получает на вход три целых числа, по одному числу в строке, и выводит на консоль в три строки сначала максимальное, потом минимальное, после чего оставшееся число.\n",
    "\n",
    "# На ввод могут подаваться и повторяющиеся числа."
   ]
  },
  {
   "cell_type": "code",
   "execution_count": null,
   "metadata": {},
   "outputs": [],
   "source": [
    "a = int(input())\n",
    "b = int(input())\n",
    "c = int(input())\n",
    "\n",
    "nums = sorted([a, b, c])\n",
    "print(nums[2])\n",
    "print(nums[0])\n",
    "print(nums[1])\n"
   ]
  },
  {
   "cell_type": "code",
   "execution_count": null,
   "metadata": {},
   "outputs": [],
   "source": []
  },
  {
   "cell_type": "code",
   "execution_count": null,
   "metadata": {},
   "outputs": [],
   "source": []
  },
  {
   "cell_type": "markdown",
   "metadata": {},
   "source": [
    "# В институте биоинформатики по офису передвигается робот. Недавно студенты из группы программистов написали для него программу, по которой робот, когда заходит в комнату, считает количество программистов в ней и произносит его вслух: \"n программистов\".\n",
    "\n",
    "# Для того, чтобы это звучало правильно, для каждого nn нужно использовать верное окончание слова.\n",
    "\n",
    "# Напишите программу, считывающую с пользовательского ввода целое число nn (неотрицательное), выводящее это число в консоль вместе с правильным образом изменённым словом \"программист\", для того, чтобы робот мог нормально общаться с людьми, например: 1 программист, 2 программиста, 5 программистов.\n",
    "\n",
    "# В комнате может быть очень много программистов. Проверьте, что ваша программа правильно обработает все случаи, как минимум до 1000 человек.\n",
    "\n",
    "# Дополнительный комментарий к условию:\n",
    "# Обратите внимание, что задача не так проста, как кажется на первый взгляд. Если ваше решение не проходит какой-то тест, это значит, что вы не рассмотрели какой-то из случаев входных данных (число программистов 0 \\le n \\le 10000≤n≤1000). Обязательно проверяйте свои решения на дополнительных значениях, а не только на тех, что приведены в условии задания.\n",
    "\n",
    "# Так как задание повышенной сложности, вручную код решений проверяться не будет. Если вы столкнулись с ошибкой в первых четырёх тестах, проверьте, что вы используете только русские символы для ответа. В остальных случаях ищите ошибку в логике работы программы."
   ]
  },
  {
   "cell_type": "code",
   "execution_count": null,
   "metadata": {},
   "outputs": [],
   "source": [
    "n = int(input())\n",
    "if n % 10 == 1 and '11' not in str(n):\n",
    "    print(str(n) + \" программист\")\n",
    "elif (n % 10 == 0) or (5 <= (n % 10) <= 9) or (5 <= n <= 20) or (11 <= (n % 100) <= 14):\n",
    "    print(str(n) + \" программистов\")\n",
    "else:\n",
    "    print(str(n) + \" программиста\")"
   ]
  },
  {
   "cell_type": "code",
   "execution_count": null,
   "metadata": {},
   "outputs": [],
   "source": []
  },
  {
   "cell_type": "code",
   "execution_count": null,
   "metadata": {},
   "outputs": [],
   "source": []
  },
  {
   "cell_type": "markdown",
   "metadata": {},
   "source": [
    "# Паша очень любит кататься на общественном транспорте, а получая билет, сразу проверяет, счастливый ли ему попался. Билет считается счастливым, если сумма первых трех цифр совпадает с суммой последних трех цифр номера билета.\n",
    "\n",
    "# Однако Паша очень плохо считает в уме, поэтому попросил вас написать программу, которая проверит равенство сумм и выведет \"Счастливый\", если суммы совпадают, и \"Обычный\", если суммы различны.\n",
    "\n",
    "# На вход программе подаётся строка из шести цифр.\n",
    "\n",
    "# Выводить нужно только слово \"Счастливый\" или \"Обычный\", с большой буквы."
   ]
  },
  {
   "cell_type": "code",
   "execution_count": null,
   "metadata": {},
   "outputs": [],
   "source": [
    "n = int(input())\n",
    "head = n // 1000\n",
    "tail = n % 1000\n",
    "head1 = head // 100\n",
    "head2 = (head % 100) // 10\n",
    "head3 = head % 10\n",
    "tail1 = tail // 100 \n",
    "tail2 = (tail % 100) // 10\n",
    "tail3 = tail % 10\n",
    "if head1+head2+head3 == tail1+tail2+tail3:\n",
    "    print('Счастливый')\n",
    "else:\n",
    "    print('Обычный')"
   ]
  },
  {
   "cell_type": "code",
   "execution_count": null,
   "metadata": {},
   "outputs": [],
   "source": []
  },
  {
   "cell_type": "code",
   "execution_count": null,
   "metadata": {},
   "outputs": [],
   "source": []
  },
  {
   "cell_type": "markdown",
   "metadata": {},
   "source": [
    "# Напишите программу, которая считывает со стандартного ввода целые числа, по одному числу в строке, и после первого введенного нуля выводит сумму полученных на вход чисел."
   ]
  },
  {
   "cell_type": "code",
   "execution_count": null,
   "metadata": {},
   "outputs": [],
   "source": [
    "x = int(input())\n",
    "s = x\n",
    "while x != 0:\n",
    "    x = int(input())\n",
    "    s += x\n",
    "print(s)"
   ]
  },
  {
   "cell_type": "code",
   "execution_count": null,
   "metadata": {},
   "outputs": [],
   "source": []
  },
  {
   "cell_type": "code",
   "execution_count": null,
   "metadata": {},
   "outputs": [],
   "source": []
  },
  {
   "cell_type": "markdown",
   "metadata": {},
   "source": [
    "# В Институте биоинформатики между информатиками и биологами устраивается соревнование. Победителям соревнования достанется большой и вкусный пирог. В команде биологов aa человек, а в команде информатиков — bb человек.\n",
    "\n",
    "# Нужно заранее разрезать пирог таким образом, чтобы можно было раздать кусочки пирога любой команде, выигравшей соревнование, при этом каждому участнику этой команды должно достаться одинаковое число кусочков пирога. И так как не хочется резать пирог на слишком мелкие кусочки, нужно найти минимальное подходящее число.\n",
    "\n",
    "# Напишите программу, которая помогает найти это число.\n",
    "# Программа должна считывать размеры команд (два положительных целых числа aa и bb, каждое число вводится на отдельной строке) и выводить наименьшее число dd, которое делится на оба этих числа без остатка."
   ]
  },
  {
   "cell_type": "code",
   "execution_count": null,
   "metadata": {},
   "outputs": [],
   "source": [
    "a = int(input())\n",
    "b = int(input())\n",
    "c = a*b\n",
    "while a!=0 and b!=0:\n",
    "    if a > b:\n",
    "        a = a % b\n",
    "    else:\n",
    "        b = b % a\n",
    "print(int(c/(a+b)))"
   ]
  },
  {
   "cell_type": "code",
   "execution_count": null,
   "metadata": {},
   "outputs": [],
   "source": []
  },
  {
   "cell_type": "code",
   "execution_count": null,
   "metadata": {},
   "outputs": [],
   "source": []
  },
  {
   "cell_type": "code",
   "execution_count": null,
   "metadata": {},
   "outputs": [],
   "source": [
    "i = 0\n",
    "s = 0\n",
    "while i < 10:\n",
    "    i = i + 1\n",
    "    s = s + i\n",
    "    if s > 15:\n",
    "        break\n",
    "    i = i + 1\n",
    "i"
   ]
  },
  {
   "cell_type": "markdown",
   "metadata": {},
   "source": [
    "# Напишите программу, которая считывает целые числа с консоли по одному числу в строке.\n",
    "\n",
    "# Для каждого введённого числа проверить:\n",
    "# если число меньше 10, то пропускаем это число;\n",
    "# если число больше 100, то прекращаем считывать числа;\n",
    "# в остальных случаях вывести это число обратно на консоль в отдельной строке."
   ]
  },
  {
   "cell_type": "code",
   "execution_count": null,
   "metadata": {},
   "outputs": [],
   "source": [
    "i = int(input())\n",
    "while i <= 100:\n",
    "    if i >= 10:\n",
    "        print(i)\n",
    "    i = int(input())\n"
   ]
  },
  {
   "cell_type": "code",
   "execution_count": null,
   "metadata": {},
   "outputs": [],
   "source": []
  },
  {
   "cell_type": "code",
   "execution_count": null,
   "metadata": {},
   "outputs": [],
   "source": []
  },
  {
   "cell_type": "markdown",
   "metadata": {},
   "source": [
    "# Когда Павел учился в школе, он запоминал таблицу умножения прямоугольными блоками. Для тренировок ему бы очень пригодилась программа, которая показывала бы блок таблицы умножения.\n",
    "\n",
    "# Напишите программу, на вход которой даются четыре числа aa, bb, cc и dd, каждое в своей строке. Программа должна вывести фрагмент таблицы умножения для всех чисел отрезка $[a; b][a;b]$ на все числа отрезка $[c;d][c;d]$.\n",
    "\n",
    "# Числа aa, bb, cc и dd являются натуральными и не превосходят 10, $a \\le ba≤b$, $c \\le dc≤d$.\n",
    "\n",
    "# Следуйте формату вывода из примера, для разделения элементов внутри строки используйте '\\t' — символ табуляции. Заметьте, что левым столбцом и верхней строкой выводятся сами числа из заданных отрезков — заголовочные столбец и строка таблицы."
   ]
  },
  {
   "cell_type": "code",
   "execution_count": null,
   "metadata": {},
   "outputs": [],
   "source": [
    "a = int(input())\n",
    "b = int(input())\n",
    "c = int(input())\n",
    "d = int(input())\n",
    "for i in range(c, d+1):\n",
    "    print('   ' + str(i), end='')\n",
    "for j in range(a, b+1):\n",
    "    print('\\n' + str(j), end=' ')\n",
    "    for i in range(c, d+1):\n",
    "        print(' ' + str(i*j), end = '')\n",
    "print()"
   ]
  },
  {
   "cell_type": "code",
   "execution_count": null,
   "metadata": {},
   "outputs": [],
   "source": []
  },
  {
   "cell_type": "code",
   "execution_count": null,
   "metadata": {},
   "outputs": [],
   "source": []
  },
  {
   "cell_type": "code",
   "execution_count": null,
   "metadata": {},
   "outputs": [],
   "source": [
    "a, b = (int(i) for i in input().split())\n",
    "s = 0 \n",
    "if a % 2 == 0:\n",
    "    a += 1\n",
    "for j in range(a,b+1,2):\n",
    "    s+=j\n",
    "print(s)"
   ]
  },
  {
   "cell_type": "markdown",
   "metadata": {},
   "source": [
    "# Напишите программу, которая считывает с клавиатуры два числа aa и bb, считает и выводит на консоль среднее арифметическое всех чисел из отрезка [a; b][a;b], которые делятся на 33.\n",
    "\n",
    "# В приведенном ниже примере среднее арифметическое считается для чисел на отрезке [-5; 12][−5;12]. Всего чисел, делящихся на 33, на этом отрезке 66: -3, 0, 3, 6, 9, 12−3,0,3,6,9,12. Их среднее арифметическое равно 4.54.5\n",
    "\n",
    "# На вход программе подаются интервалы, внутри которых всегда есть хотя бы одно число, которое делится на 33."
   ]
  },
  {
   "cell_type": "code",
   "execution_count": null,
   "metadata": {},
   "outputs": [],
   "source": [
    "a = int(input())\n",
    "b = int(input())\n",
    "while a % 3 != 0 or a % (-3) != 0:\n",
    "    a+=1\n",
    "s = 0\n",
    "n = 0\n",
    "for i in range(a,b+1,3):\n",
    "    s += i\n",
    "    n += 1\n",
    "print(s/n)    "
   ]
  },
  {
   "cell_type": "code",
   "execution_count": null,
   "metadata": {},
   "outputs": [],
   "source": []
  },
  {
   "cell_type": "code",
   "execution_count": null,
   "metadata": {},
   "outputs": [],
   "source": [
    "genome = input()\n",
    "sumC = 0\n",
    "for nucl in genome:\n",
    "    if nucl == 'C':\n",
    "        sumC += 1\n",
    "print(sumC)        "
   ]
  },
  {
   "cell_type": "code",
   "execution_count": null,
   "metadata": {},
   "outputs": [],
   "source": [
    "genome = input()\n",
    "print(genome.count('C'))"
   ]
  },
  {
   "cell_type": "markdown",
   "metadata": {},
   "source": [
    "# Методы у строк"
   ]
  },
  {
   "cell_type": "code",
   "execution_count": null,
   "metadata": {},
   "outputs": [],
   "source": [
    "s='atGGaascc'\n",
    "p ='cc'\n",
    "print(s.upper())\n",
    "print(s.lower())\n",
    "print(s.count(p))\n",
    "print(s.find(p))\n",
    "print(s.find('A'))\n",
    "print(s.replace('c', 'C'))"
   ]
  },
  {
   "cell_type": "code",
   "execution_count": null,
   "metadata": {},
   "outputs": [],
   "source": []
  },
  {
   "cell_type": "code",
   "execution_count": null,
   "metadata": {},
   "outputs": [],
   "source": []
  },
  {
   "cell_type": "markdown",
   "metadata": {},
   "source": [
    "# GC-состав является важной характеристикой геномных последовательностей и определяется как процентное соотношение суммы всех гуанинов и цитозинов к общему числу нуклеиновых оснований в геномной последовательности.\n",
    "\n",
    "# Напишите программу, которая вычисляет процентное содержание символов G (гуанин) и C (цитозин) в введенной строке (программа не должна зависеть от регистра вводимых символов).\n",
    "\n",
    "# Например, в строке \"acggtgttat\" процентное содержание символов G и C равно $\\dfrac4{10} \\cdot 100 = 40.0$ \t\n",
    "где 4 - это количество символов G и C, а 10 - это длина строки."
   ]
  },
  {
   "cell_type": "code",
   "execution_count": null,
   "metadata": {},
   "outputs": [],
   "source": [
    "a = input()\n",
    "a = a.lower()\n",
    "l = len(a)\n",
    "cG = a.count('g')\n",
    "cC = a.cout('c')\n",
    "sGC = cG + cC\n",
    "GCcomposition = (sGC/l) * 100\n",
    "print(GCcomposition)"
   ]
  },
  {
   "cell_type": "code",
   "execution_count": null,
   "metadata": {},
   "outputs": [],
   "source": []
  },
  {
   "cell_type": "code",
   "execution_count": null,
   "metadata": {},
   "outputs": [],
   "source": []
  },
  {
   "cell_type": "markdown",
   "metadata": {},
   "source": [
    "# Палинром"
   ]
  },
  {
   "cell_type": "code",
   "execution_count": null,
   "metadata": {},
   "outputs": [],
   "source": [
    "s = input()\n",
    "i = 0\n",
    "j = len(s) - 1\n",
    "is_palindrom = True\n",
    "while i < j:\n",
    "    if s[j] != s[i]:\n",
    "        is_palindrom = False\n",
    "        break\n",
    "    i += 1\n",
    "    j -= 1\n",
    "if is_palindrom:\n",
    "    print('Yes')\n",
    "else:\n",
    "    print('No')"
   ]
  },
  {
   "cell_type": "code",
   "execution_count": null,
   "metadata": {},
   "outputs": [],
   "source": [
    "# недостаток- доп память под список r \n",
    "s = input()\n",
    "r = s[::-1]\n",
    "if r == s:\n",
    "    print('Yes')\n",
    "else:\n",
    "    print('No')"
   ]
  },
  {
   "cell_type": "code",
   "execution_count": null,
   "metadata": {},
   "outputs": [],
   "source": [
    "s = 'abcdefghijk'\n",
    "print(s[3:6])\n",
    "print(s[:6])\n",
    "print(s[3:])\n",
    "print(s[::-1])\n",
    "print(s[-3:])\n",
    "print(s[:-6])\n",
    "print(s[-1:-10:-2])"
   ]
  },
  {
   "cell_type": "code",
   "execution_count": null,
   "metadata": {},
   "outputs": [],
   "source": []
  },
  {
   "cell_type": "code",
   "execution_count": null,
   "metadata": {},
   "outputs": [],
   "source": []
  },
  {
   "cell_type": "markdown",
   "metadata": {},
   "source": [
    "# Узнав, что ДНК не является случайной строкой, только что поступившие в Институт биоинформатики студенты группы информатиков предложили использовать алгоритм сжатия, который сжимает повторяющиеся символы в строке.\n",
    "\n",
    "# Кодирование осуществляется следующим образом:\n",
    "# s = 'aaaabbсaa' преобразуется в 'a4b2с1a2', то есть группы одинаковых символов исходной строки заменяются на этот символ и количество его повторений в этой позиции строки.\n",
    "\n",
    "# Напишите программу, которая считывает строку, кодирует её предложенным алгоритмом и выводит закодированную последовательность на стандартный вывод. Кодирование должно учитывать регистр символов."
   ]
  },
  {
   "cell_type": "code",
   "execution_count": null,
   "metadata": {},
   "outputs": [],
   "source": [
    "s = 'acc'\n",
    "i = 0\n",
    "j = 1\n",
    "new = ''\n",
    "if len(s) > 1:\n",
    "    for x in s[i::]:\n",
    "        x = s[i]\n",
    "        summ = 1\n",
    "        if j < len(s):\n",
    "            if s[i] == s[j]:\n",
    "                while j < len(s) and s[i] == s[j]:\n",
    "                    summ += 1\n",
    "                    i+=1\n",
    "                    j+=1\n",
    "                new += x + str(summ)\n",
    "            else:\n",
    "                if s[i-1] != s[j-1]:\n",
    "                    x = s[i]\n",
    "                    new += x + str(summ)\n",
    "                    i+=1\n",
    "                    j+=1\n",
    "                else:\n",
    "                    x = s[i+1]\n",
    "                    i+=1\n",
    "                    j+=1\n",
    "        else:\n",
    "            if s[i] == s[i-1]:\n",
    "                break\n",
    "            else:\n",
    "                new += x + str(summ)\n",
    "                break\n",
    "else:\n",
    "    new += s + '1'\n",
    "print(new)"
   ]
  },
  {
   "cell_type": "code",
   "execution_count": null,
   "metadata": {},
   "outputs": [],
   "source": [
    "genome = input()+' '\n",
    "s = 0\n",
    "n=genome[0]\n",
    "for i in genome:       \n",
    "    if n!=i:\n",
    "        print(n + str(s), end = '')\n",
    "        s=0\n",
    "        n=i\n",
    "    s+=1"
   ]
  },
  {
   "cell_type": "code",
   "execution_count": null,
   "metadata": {},
   "outputs": [],
   "source": []
  },
  {
   "cell_type": "code",
   "execution_count": null,
   "metadata": {},
   "outputs": [],
   "source": []
  },
  {
   "cell_type": "code",
   "execution_count": null,
   "metadata": {},
   "outputs": [],
   "source": [
    "students = ['Ivan', 'Masha', 'Sasha']\n",
    "students += ['Olga']\n",
    "students += 'Olga'\n",
    "print(students)"
   ]
  },
  {
   "cell_type": "code",
   "execution_count": null,
   "metadata": {},
   "outputs": [],
   "source": [
    "students = ['Ivan', 'Masha', 'Sasha']\n",
    "if 'Ivan' in students:\n",
    "    print('Ivan is hear!')\n",
    "if 'Ann' not in students:\n",
    "    print('Ann is out of list')\n",
    "    "
   ]
  },
  {
   "cell_type": "code",
   "execution_count": null,
   "metadata": {},
   "outputs": [],
   "source": [
    "students = ['Ivan', 'Masha', 'Sasha', 'Sasha']\n",
    "ind = students.index('Sasha')\n",
    "ind"
   ]
  },
  {
   "cell_type": "code",
   "execution_count": null,
   "metadata": {},
   "outputs": [],
   "source": [
    "students = ['Ivan', 'Masha', 'Sasha', 'Sasha']\n",
    "ind = []\n",
    "i = 0\n",
    "for name in students[i::]:\n",
    "    if name == 'Sasha':\n",
    "        ind.append(i)\n",
    "    i+=1 \n",
    "print(ind)"
   ]
  },
  {
   "cell_type": "code",
   "execution_count": null,
   "metadata": {},
   "outputs": [],
   "source": [
    "students = ['Ivan', 'Masha', 'Sasha', 'Sasha']\n",
    "sort_students = sorted(students)\n",
    "students.sort()\n",
    "sort_students == students"
   ]
  },
  {
   "cell_type": "code",
   "execution_count": null,
   "metadata": {},
   "outputs": [],
   "source": [
    "students = ['Ivan', 'Masha', 'Sasha', 'Sasha']\n",
    "reversed_students = students[::-1]\n",
    "students.reverse()\n",
    "students == reversed_students"
   ]
  },
  {
   "cell_type": "code",
   "execution_count": null,
   "metadata": {},
   "outputs": [],
   "source": [
    "a = [2, 'M', 23]\n",
    "b = a\n",
    "a[0] = 30\n",
    "print(a)\n",
    "print(b)\n",
    "b[2] = 12\n",
    "print(a)\n",
    "print(b)"
   ]
  },
  {
   "cell_type": "code",
   "execution_count": null,
   "metadata": {},
   "outputs": [],
   "source": [
    "a = [1, 2, 3]\n",
    "b = a\n",
    "# значения списка b? 1 2 3;\n",
    "\n",
    "a[1] = 10\n",
    "# значения списка b? 1 10 3;\n",
    "\n",
    "b[0] = 20\n",
    "# значения списка a? 20 10 3;\n",
    "\n",
    "a = [5, 6]\n",
    "# значения списка b? 20 10 3"
   ]
  },
  {
   "cell_type": "code",
   "execution_count": null,
   "metadata": {},
   "outputs": [],
   "source": [
    "print([0] * 5)\n",
    "print([0 for i in range(5)])\n",
    "print([i*i for i in range(5)]) \n",
    "print(sum([int(i) for i in input().split()]))"
   ]
  },
  {
   "cell_type": "code",
   "execution_count": null,
   "metadata": {},
   "outputs": [],
   "source": []
  },
  {
   "cell_type": "code",
   "execution_count": null,
   "metadata": {},
   "outputs": [],
   "source": []
  },
  {
   "cell_type": "markdown",
   "metadata": {},
   "source": [
    "# Напишите программу, на вход которой подается одна строка с целыми числами. Программа должна вывести сумму этих чисел.\n",
    "\n",
    "# Используйте метод split строки. "
   ]
  },
  {
   "cell_type": "code",
   "execution_count": null,
   "metadata": {},
   "outputs": [],
   "source": [
    "print(sum([int(i) for i in input().split()]))"
   ]
  },
  {
   "cell_type": "code",
   "execution_count": null,
   "metadata": {},
   "outputs": [],
   "source": []
  },
  {
   "cell_type": "markdown",
   "metadata": {},
   "source": [
    "# Напишите программу, на вход которой подаётся список чисел одной строкой. Программа должна для каждого элемента этого списка вывести сумму двух его соседей. Для элементов списка, являющихся крайними, одним из соседей считается элемент, находящий на противоположном конце этого списка. Например, если на вход подаётся список \"1 3 5 6 10\", то на выход ожидается список \"13 6 9 15 7\" (без кавычек).\n",
    "\n",
    "# Если на вход пришло только одно число, надо вывести его же.\n",
    "\n",
    "# Вывод должен содержать одну строку с числами нового списка, разделёнными пробелом."
   ]
  },
  {
   "cell_type": "markdown",
   "metadata": {},
   "source": [
    "Sample Input 1:\n",
    "\n",
    "1 3 5 6 10\n",
    "Sample Output 1:\n",
    "\n",
    "13 6 9 15 7\n",
    "Sample Input 2:\n",
    "\n",
    "10\n",
    "Sample Output 2:\n",
    "\n",
    "10"
   ]
  },
  {
   "cell_type": "code",
   "execution_count": null,
   "metadata": {},
   "outputs": [],
   "source": [
    "a = [int(i) for i in input().split()]\n",
    "i = 0\n",
    "s = ''\n",
    "for x in a[i::]:\n",
    "    if len(a) > 1:\n",
    "        if i == 0:\n",
    "            s += str(a[1] + a[-1]) + ' '\n",
    "            i+=1\n",
    "        elif i == len(a)-1:\n",
    "            s += str(a[-2] + a[0])\n",
    "        else:\n",
    "            if i+1 >= len(a):\n",
    "                break\n",
    "            else:\n",
    "                s += str(a[i-1] + a[i+1]) + ' '\n",
    "                i+=1\n",
    "    else:\n",
    "        s += str(a[0])\n",
    "print(s)"
   ]
  },
  {
   "cell_type": "code",
   "execution_count": null,
   "metadata": {},
   "outputs": [],
   "source": []
  },
  {
   "cell_type": "code",
   "execution_count": null,
   "metadata": {},
   "outputs": [],
   "source": []
  },
  {
   "cell_type": "markdown",
   "metadata": {},
   "source": [
    "# Напишите программу, которая принимает на вход список чисел в одной строке и выводит на экран в одну строку значения, которые повторяются в нём более одного раза.\n",
    "\n",
    "# Для решения задачи может пригодиться метод sort списка.\n",
    "\n",
    "# Выводимые числа не должны повторяться, порядок их вывода может быть произвольным."
   ]
  },
  {
   "cell_type": "code",
   "execution_count": null,
   "metadata": {},
   "outputs": [],
   "source": [
    "a = [int(i) for i in input().split()]\n",
    "a.sort()\n",
    "n = ''\n",
    "\n",
    "for i in a:\n",
    "    if a.count(i) > 1 and str(int(i)) not in n:\n",
    "        n += str(i) + ' '\n",
    "print(n[:-1])"
   ]
  },
  {
   "cell_type": "markdown",
   "metadata": {},
   "source": [
    "# двумерные списки"
   ]
  },
  {
   "cell_type": "code",
   "execution_count": null,
   "metadata": {},
   "outputs": [],
   "source": [
    "a = [[1,2,3], [4,5,6], [7,8,9]]\n",
    "print(a[1])\n",
    "print(a[1][1])"
   ]
  },
  {
   "cell_type": "markdown",
   "metadata": {},
   "source": [
    "# генерация двумерных списков"
   ]
  },
  {
   "cell_type": "code",
   "execution_count": null,
   "metadata": {},
   "outputs": [],
   "source": [
    "n = 3\n",
    "a = [[0] * n] * n\n",
    "print(a)\n",
    "a[0][0] = 5\n",
    "print(a)\n",
    "# Вверху не настоящий двумерный список. Мы сначала создали строку с 3 нулями, а потом создали n ссылок на эту строку\n",
    "# Чтобы создать настоящий двумерный список и без проблем менять любой элемент в нём необходимы генераторы:\n",
    "a = [[0]*n for i in range(n)]\n",
    "print(a)\n",
    "a = [[0 for i in range(n)] for j in range(n)]\n",
    "print(a)"
   ]
  },
  {
   "cell_type": "code",
   "execution_count": null,
   "metadata": {},
   "outputs": [],
   "source": []
  },
  {
   "cell_type": "code",
   "execution_count": null,
   "metadata": {},
   "outputs": [],
   "source": []
  },
  {
   "cell_type": "markdown",
   "metadata": {},
   "source": [
    "# найти минимум в списке через цикл"
   ]
  },
  {
   "cell_type": "code",
   "execution_count": null,
   "metadata": {},
   "outputs": [],
   "source": [
    "a = [int(i) for i in input().split()]\n",
    "m = a[0]\n",
    "for i in a:\n",
    "    if i < m:\n",
    "        m = i\n",
    "print(m)"
   ]
  },
  {
   "cell_type": "code",
   "execution_count": null,
   "metadata": {},
   "outputs": [],
   "source": []
  },
  {
   "cell_type": "code",
   "execution_count": null,
   "metadata": {},
   "outputs": [],
   "source": []
  },
  {
   "cell_type": "markdown",
   "metadata": {},
   "source": [
    "# Напишите программу, которая считывает с консоли числа (по одному в строке) до тех пор, пока сумма введённых чисел не будет равна 0 и сразу после этого выводит сумму квадратов всех считанных чисел.\n",
    "\n",
    "# Гарантируется, что в какой-то момент сумма введённых чисел окажется равной 0, после этого считывание продолжать не нужно.\n",
    "\n",
    "# В примере мы считываем числа 1, -3, 5, -6, -10, 13; в этот момент замечаем, что сумма этих чисел равна нулю и выводим сумму их квадратов, не обращая внимания на то, что остались ещё не прочитанные значения."
   ]
  },
  {
   "cell_type": "code",
   "execution_count": null,
   "metadata": {},
   "outputs": [],
   "source": [
    "a = int(input())\n",
    "summ = 0\n",
    "summ += a\n",
    "sqr = 0\n",
    "sqr += a ** 2  \n",
    "if summ == 0:\n",
    "    print(sqr)\n",
    "else:    \n",
    "    while 0==0:\n",
    "        a = int(input())\n",
    "        sqr += a**2\n",
    "        summ += a\n",
    "        if summ == 0:\n",
    "            break\n",
    "    print(sqr)"
   ]
  },
  {
   "cell_type": "code",
   "execution_count": null,
   "metadata": {},
   "outputs": [],
   "source": []
  },
  {
   "cell_type": "code",
   "execution_count": null,
   "metadata": {},
   "outputs": [],
   "source": []
  },
  {
   "cell_type": "markdown",
   "metadata": {},
   "source": [
    "# Напишите программу, которая выводит часть последовательности 1 2 2 3 3 3 4 4 4 4 5 5 5 5 5 ... (число повторяется столько раз, чему равно). На вход программе передаётся неотрицательное целое число n — столько элементов последовательности должна отобразить программа. На выходе ожидается последовательность чисел, записанных через пробел в одну строку.\n",
    "\n",
    "# Например, если n = 7, то программа должна вывести 1 2 2 3 3 3 4."
   ]
  },
  {
   "cell_type": "code",
   "execution_count": null,
   "metadata": {},
   "outputs": [],
   "source": [
    "n = int(input())\n",
    "a = []\n",
    "x = []\n",
    "new = ''\n",
    "for i in range(n):\n",
    "    i+=1\n",
    "    a.append([i]*i)\n",
    "for j in range(len(a)): # здесь a - это двумерный список\n",
    "    for k in range(len(a[j])):\n",
    "        x.append(a[j][k]) # заполняем значениями\n",
    "for y in x[:n]:\n",
    "    print(y, end=' ')"
   ]
  },
  {
   "cell_type": "code",
   "execution_count": null,
   "metadata": {},
   "outputs": [],
   "source": [
    "n = int(input())\n",
    "a = []\n",
    "i = 0\n",
    "while len(a) < n:\n",
    "    a += [i] * i\n",
    "    i += 1\n",
    "print(*a[:n])"
   ]
  },
  {
   "cell_type": "markdown",
   "metadata": {},
   "source": [
    "# Загуглил последовательность, у нее оказалась готовая форма для любого элемента и соответственно печатаем его:\n",
    "\n",
    "$a(n)=floor(1/2+sqrt(2n))$"
   ]
  },
  {
   "cell_type": "code",
   "execution_count": null,
   "metadata": {},
   "outputs": [],
   "source": [
    "import math\n",
    "x = int(input())\n",
    "print(*[int( 1/2 + math.sqrt(2 * n) ) for n in range(1, x + 1)])"
   ]
  },
  {
   "cell_type": "code",
   "execution_count": null,
   "metadata": {},
   "outputs": [],
   "source": []
  },
  {
   "cell_type": "code",
   "execution_count": null,
   "metadata": {},
   "outputs": [],
   "source": []
  },
  {
   "cell_type": "markdown",
   "metadata": {},
   "source": [
    "Напишите программу, которая считывает список чисел lstlst из первой строки и число xx из второй строки, которая выводит все позиции, на которых встречается число xx в переданном списке lstlst.\n",
    "\n",
    "Позиции нумеруются с нуля, если число xx не встречается в списке, вывести строку \"Отсутствует\" (без кавычек, с большой буквы).\n",
    "\n",
    "Позиции должны быть выведены в одну строку, по возрастанию абсолютного значения."
   ]
  },
  {
   "cell_type": "code",
   "execution_count": null,
   "metadata": {},
   "outputs": [],
   "source": [
    "lst = [int(i) for i in input().split()]\n",
    "x = int(input())\n",
    "new = []\n",
    "if x in lst:\n",
    "    for i, item in enumerate(lst):    \n",
    "        if x == item:\n",
    "            new.append(i)\n",
    "else:\n",
    "    new.append('Отсутствует')\n",
    "print(*new, end=' ')"
   ]
  },
  {
   "cell_type": "code",
   "execution_count": null,
   "metadata": {},
   "outputs": [],
   "source": []
  },
  {
   "cell_type": "code",
   "execution_count": null,
   "metadata": {},
   "outputs": [],
   "source": []
  },
  {
   "cell_type": "markdown",
   "metadata": {},
   "source": [
    "Напишите программу, на вход которой подаётся прямоугольная матрица в виде последовательности строк, заканчивающихся строкой, содержащей только строку \"end\" (без кавычек)\n",
    "\n",
    "Программа должна вывести матрицу того же размера, у которой каждый элемент в позиции i, j равен сумме элементов первой матрицы на позициях (i-1, j), (i+1, j), (i, j-1), (i, j+1). У крайних символов соседний элемент находится с противоположной стороны матрицы.\n",
    "\n",
    "В случае одной строки/столбца элемент сам себе является соседом по соответствующему направлению."
   ]
  },
  {
   "cell_type": "code",
   "execution_count": null,
   "metadata": {},
   "outputs": [],
   "source": [
    "string_input = [elem for elem in input().split()] # считывем\n",
    "input_matrix = [] # начальная матрица\n",
    "while 'end' not in string_input:\n",
    "    input_matrix.append(string_input)\n",
    "    string_input = [elem for elem in input().split()] # ввод пока не встретим end\n",
    "int_matrix = []\n",
    "int_element = []\n",
    "for element in input_matrix:\n",
    "    for num in element:\n",
    "        int_element.append(int(num))\n",
    "    int_matrix.append(int_element)\n",
    "    len_int_element = len(int_element)\n",
    "    int_element = []\n",
    "final_matrix = []\n",
    "final_matrix_element = []\n",
    "i = 0\n",
    "j = 0\n",
    "for element in int_matrix:\n",
    "    for elementino in element:\n",
    "        res = (int_matrix[(-len(int_matrix) + 0 + j)][(-1 + i)]\n",
    "        + int_matrix[(-len(int_matrix) + 0 + j)][(-len_int_element + 1 + i)]\n",
    "        + int_matrix[(-len(int_matrix) + 1 + j)][(-len_int_element + 0 + i)]\n",
    "        + int_matrix[(-1 + j)][(-len_int_element + 0 + i)])\n",
    "        final_matrix_element.append(res)\n",
    "        i+=1\n",
    "    final_matrix.append(final_matrix_element)\n",
    "    final_matrix_element = []\n",
    "    j+=1\n",
    "    i = 0\n",
    "for elem in final_matrix:\n",
    "    print(*elem, end = '\\n')"
   ]
  },
  {
   "cell_type": "code",
   "execution_count": null,
   "metadata": {},
   "outputs": [],
   "source": []
  },
  {
   "cell_type": "code",
   "execution_count": null,
   "metadata": {},
   "outputs": [],
   "source": []
  },
  {
   "cell_type": "markdown",
   "metadata": {},
   "source": [
    "Выведите таблицу размером $n×n$, заполненную числами от 1 до $n^2$ \n",
    "2\n",
    "  по спирали, выходящей из левого верхнего угла и закрученной по часовой стрелке, как показано в примере (здесь n=5):"
   ]
  },
  {
   "cell_type": "code",
   "execution_count": null,
   "metadata": {},
   "outputs": [],
   "source": [
    "n = int(intput())\n",
    "start_matrix = [1+i for i in range(n**2)]\n",
    "new_matrix = [[0 for x in range(n)] for y in range(n)]\n",
    "i = 0\n",
    "j = 0\n",
    "zero_len = n**2\n",
    "for element in start_matrix[0:n]:\n",
    "    new_matrix[j][i] = element\n",
    "    i+=1\n",
    "for element in start_matrix[n:n*2-1]:\n",
    "    new_matrix[j+1][i-1] = element\n",
    "    j+=1\n",
    "for element in start_matrix[n*2-1:n*3-2]:\n",
    "    new_matrix[j][i-2] = element\n",
    "    i-=1\n",
    "for element in start_matrix[n*3-2:n*4-4]:\n",
    "    new_matrix[j-1][i-1] = element\n",
    "    j-=1\n",
    "# здесь один круг завершен    \n",
    "zero_len = zero_len - element\n",
    "new_start_matrix = start_matrix[element:]\n",
    "n -= 2\n",
    "for element in new_start_matrix[0:n]:\n",
    "    new_matrix[j][i] = element\n",
    "    i+=1\n",
    "    zero_len -= 1\n",
    "while zero_len > 0:\n",
    "    for element in new_start_matrix[n:n*2-1]:\n",
    "        new_matrix[j+1][i-1] = element\n",
    "        j+=1\n",
    "        zero_len -= 1\n",
    "    for element in new_start_matrix[n*2-1:n*3-2]:\n",
    "        new_matrix[j][i-2] = element\n",
    "        i-=1\n",
    "        zero_len -= 1\n",
    "    for element in new_start_matrix[n*3-2:n*4-4]:\n",
    "        new_matrix[j-1][i-1] = element\n",
    "        j-=1\n",
    "        zero_len -= 1\n",
    "    new_start_matrix = start_matrix[element:]\n",
    "    n -= 2\n",
    "    for element in new_start_matrix[0:n]:\n",
    "        new_matrix[j][i] = element\n",
    "        i+=1\n",
    "        zero_len -= 1\n",
    "for elem in new_matrix:\n",
    "        print(*elem, end='\\n')"
   ]
  },
  {
   "cell_type": "code",
   "execution_count": null,
   "metadata": {},
   "outputs": [],
   "source": []
  },
  {
   "cell_type": "code",
   "execution_count": null,
   "metadata": {},
   "outputs": [],
   "source": []
  },
  {
   "cell_type": "markdown",
   "metadata": {},
   "source": [
    "# Функции"
   ]
  },
  {
   "cell_type": "code",
   "execution_count": null,
   "metadata": {},
   "outputs": [],
   "source": [
    "def f(n):\n",
    "    return n * 10 + 5"
   ]
  },
  {
   "cell_type": "code",
   "execution_count": null,
   "metadata": {},
   "outputs": [],
   "source": [
    "f(f(f(10)))"
   ]
  },
  {
   "cell_type": "markdown",
   "metadata": {},
   "source": [
    "## Произвольное к-во аргументов:"
   ]
  },
  {
   "cell_type": "code",
   "execution_count": null,
   "metadata": {},
   "outputs": [],
   "source": [
    "def min(*a):\n",
    "    m = a[0]\n",
    "    for x in a:\n",
    "        if m > x:\n",
    "            m = x\n",
    "    return m"
   ]
  },
  {
   "cell_type": "code",
   "execution_count": null,
   "metadata": {},
   "outputs": [],
   "source": [
    "min(1)\n"
   ]
  },
  {
   "cell_type": "code",
   "execution_count": null,
   "metadata": {},
   "outputs": [],
   "source": [
    "min(1, 3, 5, 3, 6)\n"
   ]
  },
  {
   "cell_type": "code",
   "execution_count": null,
   "metadata": {},
   "outputs": [],
   "source": [
    "min([3, 1, 10, 4])"
   ]
  },
  {
   "cell_type": "code",
   "execution_count": null,
   "metadata": {},
   "outputs": [],
   "source": [
    "# для поиска минимума в списке\n",
    "def min(a):\n",
    "    m=a[0]\n",
    "    for x in a:\n",
    "        if m>x:\n",
    "            m=x\n",
    "    return m\n",
    "\n",
    "print(min([int(j) for j in input().split()]))"
   ]
  },
  {
   "cell_type": "code",
   "execution_count": null,
   "metadata": {},
   "outputs": [],
   "source": []
  },
  {
   "cell_type": "markdown",
   "metadata": {},
   "source": [
    "# Напишите функцию modify_list(l), которая принимает на вход список целых чисел, удаляет из него все нечётные значения, а чётные нацело делит на два. Функция не должна ничего возвращать, требуется только изменение переданного списка, например:"
   ]
  },
  {
   "cell_type": "code",
   "execution_count": 22,
   "metadata": {},
   "outputs": [
    {
     "name": "stdout",
     "output_type": "stream",
     "text": [
      "None\n",
      "[1, 2, 3]\n",
      "[1]\n"
     ]
    }
   ],
   "source": [
    "def modify_list(l):\n",
    "    new = []\n",
    "    for x in l:\n",
    "        new.append(x)\n",
    "    i = 0\n",
    "    for x in new:\n",
    "        if x % 2 != 0:\n",
    "            l.remove(x)\n",
    "        else:\n",
    "            l[i] = l[i] // 2\n",
    "            i+=1\n",
    "lst = [1, 2, 3, 4, 5, 6]\n",
    "print(modify_list(lst))  # None\n",
    "print(lst)               # [1, 2, 3]\n",
    "modify_list(lst)\n",
    "print(lst)               # [1]"
   ]
  },
  {
   "cell_type": "code",
   "execution_count": null,
   "metadata": {},
   "outputs": [],
   "source": []
  },
  {
   "cell_type": "code",
   "execution_count": null,
   "metadata": {},
   "outputs": [],
   "source": []
  },
  {
   "cell_type": "markdown",
   "metadata": {},
   "source": [
    "# Словари, множества"
   ]
  },
  {
   "cell_type": "markdown",
   "metadata": {},
   "source": [
    "# Напишите функцию update_dictionary(d, key, value), которая принимает на вход словарь d и два числа: key и value.\n",
    "\n",
    "Если ключ keykey есть в словаре dd, то добавьте значение valuevalue в список, который хранится по этому ключу.\n",
    "Если ключа keykey нет в словаре, то нужно добавить значение в список по ключу 2 * key2∗key. Если и ключа 2 * key2∗key нет, то нужно добавить ключ 2 * key2∗key в словарь и сопоставить ему список из переданного элемента [value][value].\n",
    "\n",
    "Требуется реализовать только эту функцию, кода вне неё не должно быть.\n",
    "Функция не должна вызывать внутри себя функции input и print.\n",
    "\n",
    "Пример работы функции:\n",
    "$$d = {}\n",
    "print(update_dictionary(d, 1, -1))  # None\n",
    "print(d)                            # {2: [-1]}\n",
    "update_dictionary(d, 2, -2)\n",
    "print(d)                            # {2: [-1, -2]}\n",
    "update_dictionary(d, 1, -3)\n",
    "print(d)                            # {2: [-1, -2, -3]}$$"
   ]
  },
  {
   "cell_type": "code",
   "execution_count": 23,
   "metadata": {},
   "outputs": [],
   "source": [
    "def update_dictionary(d, key, value):\n",
    "    if key in d:\n",
    "        d[key].append(value)\n",
    "    elif key*2 in d:\n",
    "        d[key*2].append(value)\n",
    "    else:\n",
    "        d[key*2] = [value]"
   ]
  },
  {
   "cell_type": "code",
   "execution_count": null,
   "metadata": {},
   "outputs": [],
   "source": []
  },
  {
   "cell_type": "code",
   "execution_count": null,
   "metadata": {},
   "outputs": [],
   "source": []
  },
  {
   "cell_type": "markdown",
   "metadata": {},
   "source": [
    "Когда Антон прочитал «Войну и мир», ему стало интересно, сколько слов и в каком количестве используется в этой книге.\n",
    "\n",
    "# написать упрощённую версию такой программы, которая сможет подсчитать слова, разделённые пробелом и вывести получившуюся статистику.\n",
    "\n",
    "Программа должна считывать одну строку со стандартного ввода и выводить для каждого уникального слова в этой строке число его повторений (без учёта регистра) в формате \"слово количество\" (см. пример вывода).\n",
    "Порядок вывода слов может быть произвольным, каждое уникальное слово﻿ должно выводиться только один раз."
   ]
  },
  {
   "cell_type": "code",
   "execution_count": null,
   "metadata": {},
   "outputs": [],
   "source": [
    "book = [word.lower() for word in input().split()]\n",
    "word_counter = {}\n",
    "for word in book:\n",
    "    if word not in word_counter:\n",
    "        word_counter[word] = 1\n",
    "    else:\n",
    "        word_counter[word]+=1\n",
    "for word, count in word_counter.items():\n",
    "    print(word, count, end ='\\n')"
   ]
  },
  {
   "cell_type": "code",
   "execution_count": null,
   "metadata": {},
   "outputs": [],
   "source": []
  },
  {
   "cell_type": "code",
   "execution_count": null,
   "metadata": {},
   "outputs": [],
   "source": []
  },
  {
   "cell_type": "markdown",
   "metadata": {},
   "source": [
    "# Напишите программу, на вход которой на первой строке подаётся число nn, после этого на nn строках передаются числа $x_i$\n",
    "Для каждого числа $x_i$ на отдельной строке выведите значение $f(x_i)$\n",
    "Функция $f(x)$ уже реализована и доступна для вызова. \n",
    "\n",
    "Функция вычисляется достаточно долго и зависит только от переданного аргумента $x$. Для того, чтобы уложиться в ограничение по времени, нужно сохранять вычисленные значения."
   ]
  },
  {
   "cell_type": "code",
   "execution_count": null,
   "metadata": {},
   "outputs": [],
   "source": [
    "n = int(input())\n",
    "arg_for_calc = []\n",
    "for i in range(n):\n",
    "    x = int(input())\n",
    "    arg_for_calc.append(x)\n",
    "dict_answer = {}\n",
    "for x in arg_for_calc:\n",
    "    if x not in dict_answer:\n",
    "        dict_answer[x] = f(x)\n",
    "        print(f(x))\n",
    "    else:\n",
    "        print(dict_answer[x])"
   ]
  },
  {
   "cell_type": "code",
   "execution_count": null,
   "metadata": {},
   "outputs": [],
   "source": []
  },
  {
   "cell_type": "code",
   "execution_count": null,
   "metadata": {},
   "outputs": [],
   "source": []
  },
  {
   "cell_type": "markdown",
   "metadata": {},
   "source": [
    "# Файловый ввод"
   ]
  },
  {
   "cell_type": "markdown",
   "metadata": {},
   "source": [
    "На прошлой неделе мы сжимали строки, используя кодирование повторов. Теперь нашей задачей будет восстановление исходной строки обратно.\n",
    "\n",
    "# Напишите программу, которая считывает из файла строку, соответствующую тексту, сжатому с помощью кодирования повторов, и производит обратную операцию, получая исходный текст.\n",
    "\n",
    "Запишите полученный текст в файл и прикрепите его, как ответ на это задание.\n",
    "\n",
    "В исходном тексте не встречаются цифры, так что код однозначно интерпретируем.\n",
    "\n",
    "Примечание. Это первое задание типа Dataset Quiz. В таких заданиях после нажатия \"Start Quiz\" у вас появляется ссылка \"download your dataset\". Используйте эту ссылку для того, чтобы загрузить файл со входными данными к себе на компьютер. Запустите вашу программу, используя этот файл в качестве входных данных. Выходной файл, который при этом у вас получится, надо отправить в качестве ответа на эту задачу."
   ]
  },
  {
   "cell_type": "code",
   "execution_count": 25,
   "metadata": {},
   "outputs": [
    {
     "name": "stdout",
     "output_type": "stream",
     "text": [
      "a3b4c2e10b1\n",
      "[3, 4, 2, 10, 1]\n",
      "['a', 'b', 'c', 'e', 'b']\n",
      "aaabbbbcceeeeeeeeeeb\n"
     ]
    }
   ],
   "source": [
    "with open('TEST.txt') as text:\n",
    "    string = text.readline()\n",
    "print(string)\n",
    "letter = []\n",
    "for elem in string:\n",
    "    if elem >= 'A':\n",
    "        letter.append(elem)\n",
    "l = len(string)\n",
    "count = []\n",
    "i = 0\n",
    "while i < l:\n",
    "    s_int = ''\n",
    "    a = string[i]\n",
    "    while '0' <= a <= '9':\n",
    "        s_int += a\n",
    "        i += 1\n",
    "        if i < l:\n",
    "            a = string[i]\n",
    "        else:\n",
    "            break\n",
    "    i += 1\n",
    "    if s_int != '':\n",
    "        count.append(int(s_int))\n",
    "print(count)\n",
    "print(letter)\n",
    "new = ''\n",
    "i = 0\n",
    "for x in range(len(count)):\n",
    "    new += letter[i] * count[i]\n",
    "    i+=1\n",
    "print(new)"
   ]
  },
  {
   "cell_type": "code",
   "execution_count": null,
   "metadata": {},
   "outputs": [],
   "source": []
  },
  {
   "cell_type": "code",
   "execution_count": null,
   "metadata": {},
   "outputs": [],
   "source": []
  },
  {
   "cell_type": "markdown",
   "metadata": {},
   "source": [
    "Недавно мы считали для каждого слова количество его вхождений в строку. Но на все слова может быть не так интересно смотреть, как, например, на наиболее часто используемые.\n",
    "\n",
    "# Напишите программу, которая считывает текст из файла (в файле может быть больше одной строки) и выводит самое частое слово в этом тексте и через пробел то, сколько раз оно встретилось. Если таких слов несколько, вывести лексикографически первое (можно использовать оператор < для строк).\n",
    "\n",
    "В качестве ответа укажите вывод программы, а не саму программу.\n",
    "\n",
    "Слова, написанные в разных регистрах, считаются одинаковыми."
   ]
  },
  {
   "cell_type": "code",
   "execution_count": 41,
   "metadata": {},
   "outputs": [
    {
     "name": "stdout",
     "output_type": "stream",
     "text": [
      "zzcbd 7\n"
     ]
    }
   ],
   "source": [
    "with open('input.txt') as text:\n",
    "    word_counter = {}\n",
    "    print_word_counter = []\n",
    "    words = []\n",
    "    for line in text:\n",
    "        line = line.strip()\n",
    "        line = line.lower()\n",
    "        # нужно разделить слова\n",
    "        words = []\n",
    "        word = ''\n",
    "        for letter in line:\n",
    "            if letter != ' ':\n",
    "                word += letter\n",
    "            else:\n",
    "                words.append(word)\n",
    "                word = ''\n",
    "        words.append(word)            \n",
    "        for word in words:\n",
    "            if word not in word_counter:\n",
    "                word_counter[word]=1\n",
    "            else:\n",
    "                word_counter[word]+=1\n",
    "    max_count = 1\n",
    "    word_max_count = ''\n",
    "    for word, count in word_counter.items():\n",
    "        if count > max_count:\n",
    "            max_count = count\n",
    "            word_max_count = word\n",
    "    result = word_max_count + ' ' + str(max_count)\n",
    "    print(result)\n"
   ]
  },
  {
   "cell_type": "code",
   "execution_count": null,
   "metadata": {},
   "outputs": [],
   "source": []
  },
  {
   "cell_type": "code",
   "execution_count": null,
   "metadata": {},
   "outputs": [],
   "source": []
  },
  {
   "cell_type": "markdown",
   "metadata": {},
   "source": [
    "Имеется файл с данными по успеваемости абитуриентов. Он представляет из себя набор строк, где в каждой строке записана следующая информация:\n",
    "\n",
    "Фамилия;Оценка_по_математике;Оценка_по_физике;Оценка_по_русскому_языку\n",
    "\n",
    "Поля внутри строки разделены точкой с запятой, оценки — целые числа.\n",
    "\n",
    "# Напишите программу, которая считывает файл с подобной структурой и для каждого абитуриента выводит его среднюю оценку по этим трём предметам на отдельной строке, соответствующей этому абитуриенту.\n",
    "\n",
    "Также в конце файла, на отдельной строке, через пробел запишите средние баллы по математике, физике и русскому языку по всем абитуриентам.\n",
    "\n",
    "В качестве ответа на задание прикрепите полученный файл со средними оценками.\n",
    "\n",
    "Примечание. Для разбиения строки на части по символу ';' можно использовать метод split следующим образом:"
   ]
  },
  {
   "cell_type": "code",
   "execution_count": 65,
   "metadata": {
    "scrolled": false
   },
   "outputs": [
    {
     "name": "stdout",
     "output_type": "stream",
     "text": [
      "49.0\n",
      "56.666666666666664\n",
      "93.33333333333333\n",
      "61.0\n",
      "48.0\n",
      "66.66666666666667\n",
      "39.0\n",
      "46.0\n",
      "51.666666666666664\n",
      "57.666666666666664\n",
      "43.0\n",
      "44.666666666666664\n",
      "68.33333333333333\n",
      "56.666666666666664\n",
      "63.0\n",
      "57.333333333333336\n",
      "45.0\n",
      "77.0\n",
      "75.33333333333333\n",
      "42.0\n",
      "60.666666666666664\n",
      "50.666666666666664\n",
      "63.666666666666664\n",
      "39.666666666666664\n",
      "63.666666666666664\n",
      "40.0\n",
      "42.666666666666664\n",
      "72.66666666666667\n",
      "61.666666666666664\n",
      "44.666666666666664\n",
      "53.0\n",
      "73.33333333333333\n",
      "77.33333333333333\n",
      "60.666666666666664\n",
      "66.66666666666667\n",
      "54.0\n",
      "65.66666666666667\n",
      "75.0\n",
      "46.333333333333336\n",
      "51.0\n",
      "52.333333333333336\n",
      "73.66666666666667\n",
      "41.333333333333336\n",
      "34.0\n",
      "68.33333333333333\n",
      "66.0\n",
      "69.66666666666667\n",
      "37.666666666666664\n",
      "79.66666666666667\n",
      "59.0\n",
      "69.0\n",
      "58.666666666666664\n",
      "33.666666666666664\n",
      "60.333333333333336\n",
      "50.333333333333336\n",
      "49.666666666666664\n",
      "69.0\n",
      "75.33333333333333\n",
      "74.33333333333333\n",
      "76.66666666666667\n",
      "76.66666666666667\n",
      "52.0\n",
      "55.0\n",
      "67.66666666666667\n",
      "35.333333333333336\n",
      "82.0\n",
      "77.33333333333333\n",
      "61.666666666666664\n",
      "67.66666666666667\n",
      "52.666666666666664\n",
      "77.0\n",
      "50.666666666666664\n",
      "53.0\n",
      "65.33333333333333\n",
      "39.333333333333336\n",
      "56.666666666666664\n",
      "39.333333333333336\n",
      "70.0\n",
      "66.66666666666667\n",
      "87.66666666666667\n",
      "78.0\n",
      "66.66666666666667\n",
      "74.33333333333333\n",
      "65.33333333333333\n",
      "68.33333333333333\n",
      "58.0\n",
      "53.666666666666664\n",
      "65.0\n",
      "80.66666666666667\n",
      "71.33333333333333\n",
      "58.666666666666664\n",
      "52.0\n",
      "43.333333333333336\n",
      "48.666666666666664\n",
      "61.0\n",
      "55.0\n",
      "64.66666666666667\n",
      "52.666666666666664\n",
      "60.333333333333336\n",
      "66.33333333333333\n",
      "72.66666666666667\n",
      "40.0\n",
      "66.0\n",
      "59.333333333333336\n",
      "67.33333333333333\n",
      "52.0\n",
      "47.333333333333336\n",
      "65.33333333333333\n",
      "56.333333333333336\n",
      "54.666666666666664\n",
      "48.333333333333336\n",
      "72.33333333333333\n",
      "82.33333333333333\n",
      "53.333333333333336\n",
      "65.0\n",
      "66.0\n",
      "73.33333333333333\n",
      "82.66666666666667\n",
      "48.333333333333336\n",
      "59.0\n",
      "86.66666666666667\n",
      "58.0\n",
      "47.333333333333336\n",
      "53.666666666666664\n",
      "53.0\n",
      "60.0\n",
      "71.33333333333333\n",
      "80.33333333333333\n",
      "40.666666666666664\n",
      "78.33333333333333\n",
      "43.0\n",
      "54.0\n",
      "80.66666666666667\n",
      "68.66666666666667\n",
      "72.0\n",
      "67.33333333333333\n",
      "86.0\n",
      "52.0\n",
      "57.666666666666664\n",
      "71.66666666666667\n",
      "51.333333333333336\n",
      "74.66666666666667\n",
      "50.0\n",
      "50.333333333333336\n",
      "55.666666666666664\n",
      "56.666666666666664\n",
      "69.66666666666667\n",
      "57.666666666666664\n",
      "88.66666666666667\n",
      "60.0\n",
      "62.0\n",
      "72.33333333333333\n",
      "70.33333333333333\n",
      "60.333333333333336\n",
      "72.66666666666667\n",
      "69.66666666666667\n",
      "87.0\n",
      "65.0\n",
      "63.0\n",
      "57.0\n",
      "85.66666666666667\n",
      "75.66666666666667\n",
      "81.33333333333333\n",
      "65.0\n",
      "58.666666666666664\n",
      "66.66666666666667\n",
      "63.666666666666664\n",
      "71.33333333333333\n",
      "73.66666666666667\n",
      "83.33333333333333\n",
      "35.333333333333336\n",
      "51.333333333333336\n",
      "52.0\n",
      "74.33333333333333\n",
      "55.0\n",
      "69.66666666666667\n",
      "73.0\n",
      "50.333333333333336\n",
      "67.66666666666667\n",
      "87.0\n",
      "30.666666666666668\n",
      "48.0\n",
      "78.33333333333333\n",
      "58.0\n",
      "72.33333333333333\n",
      "56.333333333333336\n",
      "95.66666666666667\n",
      "75.0\n",
      "49.333333333333336\n",
      "73.33333333333333\n",
      "75.0\n",
      "54.666666666666664\n",
      "65.33333333333333\n",
      "53.0\n",
      "61.90721649484536 62.2680412371134 61.61340206185567 "
     ]
    }
   ],
   "source": [
    "with open(\"input.txt\", \"r\", encoding='utf-8') as text:\n",
    "    lst = []\n",
    "    for line in text:\n",
    "        line = line.strip()\n",
    "        name = ''\n",
    "        for sym in line:\n",
    "            if sym > 'A':\n",
    "                name+=sym\n",
    "            \n",
    "                \n",
    "        lst.append(line)\n",
    "\n",
    "    new_entry =[]\n",
    "    for entry in lst:\n",
    "        student = []\n",
    "        name = ''\n",
    "        score_str = ''\n",
    "        numbers = '0123456789'\n",
    "        for sym in entry:\n",
    "            if sym >= 'A':\n",
    "                name+=sym\n",
    "            else:\n",
    "                score_str += sym\n",
    "        student.append(name)\n",
    "        # вывести числа из строкового формата в числовой\n",
    "        l = len(score_str)\n",
    "        i = 0\n",
    "        while i < l:\n",
    "            s_int = ''\n",
    "            a = score_str[i]\n",
    "            while '0' <= a <= '9':\n",
    "                s_int += a\n",
    "                i += 1\n",
    "                if i < l:\n",
    "                    a = score_str[i]\n",
    "                else:\n",
    "                    break\n",
    "            i += 1\n",
    "            if s_int != '':\n",
    "                student.append(int(s_int))\n",
    "        new_entry.append(student)\n",
    "    \n",
    "#почитать реднюю оценку по каждому ученику\n",
    "[print((math + phis + russ) / 3) for name, math, phis, russ in new_entry]\n",
    "\n",
    "#посчитать среднее по каждому предмету\n",
    "Middle_math, Middle_phis, Middle_russ = 0, 0, 0\n",
    "sum_math, sum_phis, sum_russ = 0, 0, 0\n",
    "for el in new_entry:\n",
    "    sum_math += el[1]\n",
    "    sum_phis += el[2]\n",
    "    sum_russ += el[3]\n",
    "sum_math /= len(lst)\n",
    "sum_phis /= len(lst)\n",
    "sum_russ /= len(lst)\n",
    "print(sum_math, sum_phis, sum_russ, end=' ')"
   ]
  },
  {
   "cell_type": "code",
   "execution_count": 58,
   "metadata": {},
   "outputs": [
    {
     "name": "stdout",
     "output_type": "stream",
     "text": [
      "['apple', 55, 62]\n",
      "['orange', 60, 74]\n",
      "['pineapple', 140, 180]\n",
      "['lemon', 80, 84]\n",
      "58.5\n",
      "67.0\n",
      "160.0\n",
      "82.0\n",
      "58.5\n",
      "67.0\n",
      "160.0\n",
      "82.0\n",
      "83.75 100.0\n",
      "83.75\n",
      "100.0\n",
      "83.75 100.0\n"
     ]
    }
   ],
   "source": [
    "# Для тех, кто хочет сократить свой код :) написал небольшое руководство по [list comprehension]\n",
    "# на основе примера на stackoverflow.com\n",
    "# # http://stackoverflow.com/questions/16632124/python-emulate-sum-using-list-comprehension\n",
    "# я немного изменил этот пример, чтобы лучше объяснить работу [list comprehension]\n",
    "# и вам было проще понять, как применить этот подход к решению задания\n",
    "\n",
    "# допустим, у нас есть список фруктов, где зафиксированы самые низкие и высокие цены на эти фрукты\n",
    "# т.е. по сути это список списков :)\n",
    "lst = [[\"apple\", 55, 62], [\"orange\", 60, 74], [\"pineapple\", 140, 180], [\"lemon\", 80, 84]]\n",
    "\n",
    "# выведем этот список для нагляности на экран, используя [list comprehension]\n",
    "[print(el) for el in lst]\n",
    "# ['apple', 55, 62]\n",
    "# ['orange', 60, 74]\n",
    "# ['pineapple', 140, 180]\n",
    "# ['lemon', 80, 84]\n",
    "\n",
    "# если мы хотим подсчитать среднюю цену на каждый из фруктов, то напишем что-то вроде\n",
    "sumMiddle = 0\n",
    "for el in lst:\n",
    "    sumMiddle = (el[1] + el[2]) / 2\n",
    "    print(sumMiddle)\n",
    "\n",
    "# или можно сделать это одной строкой\n",
    "[print((priceLow + priceHigh) / 2) for fruit, priceLow, priceHigh in lst]\n",
    "# представьте, что наш список списков - это таблица из трёх столбцов\n",
    "# и мы можем обращаться к столбцам, просто озаглавив их fruit, priceLow, priceHigh\n",
    "# в цикле for, почти как перебор элементов словаря for key, value in d.items() :)\n",
    "\n",
    "# поэтому, когда вы захотите прикинуть, сколько же, от и до, в среднем может стоить\n",
    "# ваша фруктовая корзина, нужно будет посчитать среднее по каждой колонке\n",
    "# вы можете сделать это примерно так\n",
    "sumLow, sumHigh = 0, 0\n",
    "for el in lst:\n",
    "    sumLow += el[1]\n",
    "    sumHigh += el[2]\n",
    "sumLow /= len(lst)\n",
    "sumHigh /= len(lst)\n",
    "print(sumLow, sumHigh)\n",
    "\n",
    "# или применить кунг-фу списковых выражений и обойтись парой строк :)\n",
    "print(sum([priceLow for fruit, priceLow, priceHigh in lst]) / len(lst))\n",
    "print(sum([priceHigh for fruit, priceLow, priceHigh in lst]) / len(lst))\n",
    "\n",
    "# а где два принта, там и один :)\n",
    "print(sum([priceLow for fruit, priceLow, priceHigh in lst]) / len(lst), sum([priceHigh for fruit, priceLow, priceHigh in lst]) / len(lst))\n",
    "\n",
    "# надеюсь, вам было понятно и интересно\n",
    "# желаю успехов в учёбе!!!"
   ]
  },
  {
   "cell_type": "code",
   "execution_count": null,
   "metadata": {},
   "outputs": [],
   "source": []
  },
  {
   "cell_type": "code",
   "execution_count": null,
   "metadata": {},
   "outputs": [],
   "source": []
  },
  {
   "cell_type": "markdown",
   "metadata": {},
   "source": [
    "# Модули"
   ]
  },
  {
   "cell_type": "markdown",
   "metadata": {},
   "source": [
    "# Напишите программу, которая запускается из консоли и печатает значения всех переданных аргументов на экран (имя скрипта выводить не нужно). Не изменяйте порядок аргументов при выводе.\n",
    "\n",
    "Для доступа к аргументам командной строки программы подключите модуль sys и используйте переменную argv из этого модуля.\n",
    "\n",
    "Пример работы программы:\n",
    "\n",
    "> python3 my_solution.py arg1 arg2\n",
    "\n",
    "arg1 arg2"
   ]
  },
  {
   "cell_type": "code",
   "execution_count": null,
   "metadata": {},
   "outputs": [],
   "source": [
    "import sys\n",
    "\n",
    "for i in sys.argv[1::]:\n",
    "    print(i, end=' )\n",
    "# всё что выше сохранить в файл my_solution.py\n",
    "# запустить из консоли python my_solution.py arg1 arg2"
   ]
  },
  {
   "cell_type": "code",
   "execution_count": null,
   "metadata": {},
   "outputs": [],
   "source": []
  },
  {
   "cell_type": "code",
   "execution_count": 129,
   "metadata": {},
   "outputs": [
    {
     "name": "stdout",
     "output_type": "stream",
     "text": [
      "60\n"
     ]
    }
   ],
   "source": [
    "import requests\n",
    "print((requests.get('https://stepic.org/media/attachments/course67/3.6.2/237.txt').text).count('\\n'))"
   ]
  },
  {
   "cell_type": "code",
   "execution_count": null,
   "metadata": {},
   "outputs": [],
   "source": []
  },
  {
   "cell_type": "code",
   "execution_count": null,
   "metadata": {},
   "outputs": [],
   "source": []
  },
  {
   "cell_type": "markdown",
   "metadata": {},
   "source": [
    "# Реализуйте программу, которая будет вычислять количество различных объектов в списке.\n",
    "Два объекта a и b считаются различными, если a is b равно False.\n",
    "\n",
    "Вашей программе доступна переменная с названием objects, которая ссылается на список, содержащий не более 100 объектов. Выведите количество различных объектов в этом списке."
   ]
  },
  {
   "cell_type": "code",
   "execution_count": 110,
   "metadata": {},
   "outputs": [
    {
     "name": "stdout",
     "output_type": "stream",
     "text": [
      "2 5 2 2\n",
      "2\n"
     ]
    }
   ],
   "source": [
    "objects = [int(i) for i in input().split()]\n",
    "objects = [id(o) for o in objects]\n",
    "print(len(set(objects)))"
   ]
  },
  {
   "cell_type": "code",
   "execution_count": 111,
   "metadata": {},
   "outputs": [
    {
     "name": "stdout",
     "output_type": "stream",
     "text": [
      "2 5 8 2 2 2 5 8 5 4849  61 84  6 4\n",
      "8\n"
     ]
    }
   ],
   "source": [
    "objects = [int(i) for i in input().split()]\n",
    "print(len(set(map(id, objects))))"
   ]
  },
  {
   "cell_type": "code",
   "execution_count": null,
   "metadata": {},
   "outputs": [],
   "source": []
  },
  {
   "cell_type": "code",
   "execution_count": null,
   "metadata": {},
   "outputs": [],
   "source": []
  },
  {
   "cell_type": "markdown",
   "metadata": {},
   "source": [
    "# Функции"
   ]
  },
  {
   "cell_type": "code",
   "execution_count": 130,
   "metadata": {},
   "outputs": [
    {
     "name": "stdout",
     "output_type": "stream",
     "text": [
      "['arg1', 'arg2', 'foo']\n"
     ]
    }
   ],
   "source": [
    "a = []\n",
    "\n",
    "def foo(arg1, arg2):\n",
    "    a.append(\"foo\")\n",
    "\n",
    "foo(a.append(\"arg1\"), a.append(\"arg2\"))\n",
    "\n",
    "print(a)"
   ]
  },
  {
   "cell_type": "code",
   "execution_count": null,
   "metadata": {},
   "outputs": [],
   "source": []
  },
  {
   "cell_type": "markdown",
   "metadata": {},
   "source": [
    "# Напишите реализацию функции closest_mod_5, принимающую в качестве единственного аргумента целое число x и возвращающую самое маленькое целое число y, такое что:\n",
    "\n",
    "y больше или равно x\n",
    "\n",
    "y делится нацело на 5"
   ]
  },
  {
   "cell_type": "code",
   "execution_count": 131,
   "metadata": {},
   "outputs": [],
   "source": [
    "def closest_mod_5(x):\n",
    "    y = 0\n",
    "    while True:\n",
    "        if y>=x and y % 5 == 0:\n",
    "            return y\n",
    "            break\n",
    "        else:\n",
    "            y += 1\n",
    "    \n",
    "print(closest_mod_5(9))"
   ]
  },
  {
   "cell_type": "code",
   "execution_count": null,
   "metadata": {},
   "outputs": [],
   "source": []
  },
  {
   "cell_type": "code",
   "execution_count": null,
   "metadata": {},
   "outputs": [],
   "source": []
  },
  {
   "cell_type": "code",
   "execution_count": 133,
   "metadata": {},
   "outputs": [],
   "source": [
    "def s(a, *vs, b=10):\n",
    "    res = a + b\n",
    "    for v in vs:\n",
    "        res += v\n",
    "    return res"
   ]
  },
  {
   "cell_type": "markdown",
   "metadata": {},
   "source": [
    "# Сочетанием из n элементов по k называется подмножество этих n элементов размера k.\n",
    "Два сочетания называются различными, если одно из сочетаний содержит элемент, который не содержит другое.\n",
    "Числом сочетаний из n по k называется количество различных сочетаний из n по k. Обозначим это число за C(n, k).\n",
    "\n",
    "Пример:\n",
    "Пусть n = 3, т. е. есть три элемента (1, 2, 3). Пусть k = 2.\n",
    "Все различные сочетания из 3 элементов по 2: (1, 2), (1, 3), (2, 3).\n",
    "Различных сочетаний три, поэтому C(3, 2) = 3.\n",
    "\n",
    "Несложно понять, что C(n, 0) = 1, так как из n элементов выбрать 0 можно единственным образом, а именно, ничего не выбрать.\n",
    "Также несложно понять, что если k > n, то C(n, k) = 0, так как невозможно, например, из трех элементов выбрать пять.\n",
    "\n",
    "Для вычисления C(n, k) в других случаях используется следующая рекуррентная формула:\n",
    "C(n, k) = C(n - 1, k) + C(n - 1, k - 1).\n",
    "\n",
    "# Реализуйте программу, которая для заданных n и k вычисляет C(n, k).\n",
    "\n",
    "Вашей программе на вход подается строка, содержащая два целых числа n и k (1 ≤ n ≤ 10, 0 ≤ k ≤ 10).\n",
    "Ваша программа должна вывести единственное число: C(n, k).\n"
   ]
  },
  {
   "cell_type": "code",
   "execution_count": 148,
   "metadata": {},
   "outputs": [
    {
     "name": "stdout",
     "output_type": "stream",
     "text": [
      "10 5\n",
      "252\n"
     ]
    }
   ],
   "source": [
    "n, k = map(int, input().split())\n",
    "def C(n,k):\n",
    "    if k == 0:\n",
    "        return 1\n",
    "    elif k > n:\n",
    "        return 0\n",
    "    else:\n",
    "        return C(n-1, k) + C(n-1,k-1)\n",
    "print(C(n,k))"
   ]
  },
  {
   "cell_type": "code",
   "execution_count": null,
   "metadata": {},
   "outputs": [],
   "source": []
  },
  {
   "cell_type": "code",
   "execution_count": null,
   "metadata": {},
   "outputs": [],
   "source": []
  },
  {
   "cell_type": "code",
   "execution_count": null,
   "metadata": {},
   "outputs": [],
   "source": []
  },
  {
   "cell_type": "markdown",
   "metadata": {},
   "source": [
    "create <namespace> <parent> –  создать новое пространство имен с именем <namespace> внутри пространства <parent>\n",
    "add <namespace> <var> – добавить в пространство <namespace> переменную <var>\n",
    "get <namespace> <var> – получить имя пространства, из которого будет взята переменная <var> при запросе из пространства <namespace>, или None, если такого пространства не существует"
   ]
  },
  {
   "cell_type": "code",
   "execution_count": null,
   "metadata": {},
   "outputs": [],
   "source": []
  }
 ],
 "metadata": {
  "kernelspec": {
   "display_name": "Python 3",
   "language": "python",
   "name": "python3"
  },
  "language_info": {
   "codemirror_mode": {
    "name": "ipython",
    "version": 3
   },
   "file_extension": ".py",
   "mimetype": "text/x-python",
   "name": "python",
   "nbconvert_exporter": "python",
   "pygments_lexer": "ipython3",
   "version": "3.7.3"
  }
 },
 "nbformat": 4,
 "nbformat_minor": 2
}
